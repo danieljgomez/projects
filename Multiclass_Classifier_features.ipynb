{
 "cells": [
  {
   "cell_type": "code",
   "execution_count": 1,
   "metadata": {
    "collapsed": false
   },
   "outputs": [],
   "source": [
    "import pandas as pd\n",
    "import numpy as np\n",
    "import matplotlib.pyplot as plt\n",
    "% matplotlib inline"
   ]
  },
  {
   "cell_type": "code",
   "execution_count": 2,
   "metadata": {
    "collapsed": true
   },
   "outputs": [],
   "source": [
    "from sklearn.model_selection import train_test_split\n",
    "from sklearn.ensemble import RandomForestClassifier\n",
    "from sklearn.metrics import accuracy_score\n",
    "from sklearn.model_selection import GridSearchCV\n",
    "from sklearn.neighbors import KNeighborsClassifier\n",
    "from sklearn.ensemble import GradientBoostingClassifier"
   ]
  },
  {
   "cell_type": "code",
   "execution_count": 3,
   "metadata": {
    "collapsed": true
   },
   "outputs": [],
   "source": [
    "df = pd.read_csv('df_features.csv')"
   ]
  },
  {
   "cell_type": "code",
   "execution_count": 17,
   "metadata": {
    "collapsed": true
   },
   "outputs": [],
   "source": [
    "cols = [col for col in df.columns.values if 'chroma' not in col]"
   ]
  },
  {
   "cell_type": "code",
   "execution_count": 20,
   "metadata": {
    "collapsed": false
   },
   "outputs": [],
   "source": [
    "df = df[cols]"
   ]
  },
  {
   "cell_type": "code",
   "execution_count": 21,
   "metadata": {
    "collapsed": false
   },
   "outputs": [
    {
     "data": {
      "text/html": [
       "<div>\n",
       "<table border=\"1\" class=\"dataframe\">\n",
       "  <thead>\n",
       "    <tr style=\"text-align: right;\">\n",
       "      <th></th>\n",
       "      <th>track_id</th>\n",
       "      <th>track_title</th>\n",
       "      <th>artis_name</th>\n",
       "      <th>track_genre_top</th>\n",
       "      <th>mfcc_kurtosis</th>\n",
       "      <th>mfcc.1_kurtosis</th>\n",
       "      <th>mfcc.2_kurtosis</th>\n",
       "      <th>mfcc.3_kurtosis</th>\n",
       "      <th>mfcc.4_kurtosis</th>\n",
       "      <th>mfcc.5_kurtosis</th>\n",
       "      <th>...</th>\n",
       "      <th>tonnetz.39_std</th>\n",
       "      <th>tonnetz.40_std</th>\n",
       "      <th>tonnetz.41_std</th>\n",
       "      <th>zcr_kurtosis</th>\n",
       "      <th>zcr.1_max</th>\n",
       "      <th>zcr.2_mean</th>\n",
       "      <th>zcr.3_median</th>\n",
       "      <th>zcr.4_min</th>\n",
       "      <th>zcr.5_skew</th>\n",
       "      <th>zcr.6_std</th>\n",
       "    </tr>\n",
       "  </thead>\n",
       "  <tbody>\n",
       "    <tr>\n",
       "      <th>0</th>\n",
       "      <td>135</td>\n",
       "      <td>Father's Day</td>\n",
       "      <td>Abominog</td>\n",
       "      <td>Rock</td>\n",
       "      <td>2.021638</td>\n",
       "      <td>0.269172</td>\n",
       "      <td>0.755836</td>\n",
       "      <td>0.861484</td>\n",
       "      <td>1.909718</td>\n",
       "      <td>0.382428</td>\n",
       "      <td>...</td>\n",
       "      <td>0.104279</td>\n",
       "      <td>0.016731</td>\n",
       "      <td>0.020464</td>\n",
       "      <td>-0.038451</td>\n",
       "      <td>0.234863</td>\n",
       "      <td>0.050837</td>\n",
       "      <td>0.050781</td>\n",
       "      <td>0.003418</td>\n",
       "      <td>0.297873</td>\n",
       "      <td>0.024899</td>\n",
       "    </tr>\n",
       "    <tr>\n",
       "      <th>1</th>\n",
       "      <td>136</td>\n",
       "      <td>Peel Back The Mountain Sky</td>\n",
       "      <td>Abominog</td>\n",
       "      <td>Rock</td>\n",
       "      <td>13.691644</td>\n",
       "      <td>0.702855</td>\n",
       "      <td>2.484976</td>\n",
       "      <td>7.980183</td>\n",
       "      <td>0.209275</td>\n",
       "      <td>1.472870</td>\n",
       "      <td>...</td>\n",
       "      <td>0.076808</td>\n",
       "      <td>0.017915</td>\n",
       "      <td>0.016706</td>\n",
       "      <td>0.558770</td>\n",
       "      <td>0.147461</td>\n",
       "      <td>0.036686</td>\n",
       "      <td>0.034180</td>\n",
       "      <td>0.003418</td>\n",
       "      <td>0.805020</td>\n",
       "      <td>0.016905</td>\n",
       "    </tr>\n",
       "    <tr>\n",
       "      <th>2</th>\n",
       "      <td>137</td>\n",
       "      <td>Side A</td>\n",
       "      <td>Airway</td>\n",
       "      <td>Experimental</td>\n",
       "      <td>24.767420</td>\n",
       "      <td>1.551722</td>\n",
       "      <td>1.896822</td>\n",
       "      <td>-0.059702</td>\n",
       "      <td>-0.489578</td>\n",
       "      <td>-0.104813</td>\n",
       "      <td>...</td>\n",
       "      <td>0.041466</td>\n",
       "      <td>0.011149</td>\n",
       "      <td>0.011149</td>\n",
       "      <td>40.950294</td>\n",
       "      <td>0.619629</td>\n",
       "      <td>0.088439</td>\n",
       "      <td>0.086914</td>\n",
       "      <td>0.000000</td>\n",
       "      <td>3.275552</td>\n",
       "      <td>0.021831</td>\n",
       "    </tr>\n",
       "    <tr>\n",
       "      <th>3</th>\n",
       "      <td>138</td>\n",
       "      <td>Side B</td>\n",
       "      <td>Airway</td>\n",
       "      <td>Experimental</td>\n",
       "      <td>4.569541</td>\n",
       "      <td>-0.495977</td>\n",
       "      <td>0.459000</td>\n",
       "      <td>3.558457</td>\n",
       "      <td>1.234007</td>\n",
       "      <td>0.221980</td>\n",
       "      <td>...</td>\n",
       "      <td>0.045315</td>\n",
       "      <td>0.012823</td>\n",
       "      <td>0.012725</td>\n",
       "      <td>5.126394</td>\n",
       "      <td>0.627441</td>\n",
       "      <td>0.102232</td>\n",
       "      <td>0.099121</td>\n",
       "      <td>0.004883</td>\n",
       "      <td>0.633483</td>\n",
       "      <td>0.034676</td>\n",
       "    </tr>\n",
       "    <tr>\n",
       "      <th>4</th>\n",
       "      <td>139</td>\n",
       "      <td>CandyAss</td>\n",
       "      <td>Alec K. Redfearn &amp; the Eyesores</td>\n",
       "      <td>Folk</td>\n",
       "      <td>5.037508</td>\n",
       "      <td>1.186239</td>\n",
       "      <td>5.870653</td>\n",
       "      <td>1.431203</td>\n",
       "      <td>-0.306273</td>\n",
       "      <td>0.125341</td>\n",
       "      <td>...</td>\n",
       "      <td>0.090518</td>\n",
       "      <td>0.017428</td>\n",
       "      <td>0.021490</td>\n",
       "      <td>1.157352</td>\n",
       "      <td>0.261230</td>\n",
       "      <td>0.070760</td>\n",
       "      <td>0.066895</td>\n",
       "      <td>0.000977</td>\n",
       "      <td>0.769163</td>\n",
       "      <td>0.030017</td>\n",
       "    </tr>\n",
       "  </tbody>\n",
       "</table>\n",
       "<p>5 rows × 270 columns</p>\n",
       "</div>"
      ],
      "text/plain": [
       "   track_id                 track_title                       artis_name  \\\n",
       "0       135                Father's Day                         Abominog   \n",
       "1       136  Peel Back The Mountain Sky                         Abominog   \n",
       "2       137                      Side A                           Airway   \n",
       "3       138                      Side B                           Airway   \n",
       "4       139                    CandyAss  Alec K. Redfearn & the Eyesores   \n",
       "\n",
       "  track_genre_top  mfcc_kurtosis  mfcc.1_kurtosis  mfcc.2_kurtosis  \\\n",
       "0            Rock       2.021638         0.269172         0.755836   \n",
       "1            Rock      13.691644         0.702855         2.484976   \n",
       "2    Experimental      24.767420         1.551722         1.896822   \n",
       "3    Experimental       4.569541        -0.495977         0.459000   \n",
       "4            Folk       5.037508         1.186239         5.870653   \n",
       "\n",
       "   mfcc.3_kurtosis  mfcc.4_kurtosis  mfcc.5_kurtosis    ...      \\\n",
       "0         0.861484         1.909718         0.382428    ...       \n",
       "1         7.980183         0.209275         1.472870    ...       \n",
       "2        -0.059702        -0.489578        -0.104813    ...       \n",
       "3         3.558457         1.234007         0.221980    ...       \n",
       "4         1.431203        -0.306273         0.125341    ...       \n",
       "\n",
       "   tonnetz.39_std  tonnetz.40_std  tonnetz.41_std  zcr_kurtosis  zcr.1_max  \\\n",
       "0        0.104279        0.016731        0.020464     -0.038451   0.234863   \n",
       "1        0.076808        0.017915        0.016706      0.558770   0.147461   \n",
       "2        0.041466        0.011149        0.011149     40.950294   0.619629   \n",
       "3        0.045315        0.012823        0.012725      5.126394   0.627441   \n",
       "4        0.090518        0.017428        0.021490      1.157352   0.261230   \n",
       "\n",
       "   zcr.2_mean  zcr.3_median  zcr.4_min  zcr.5_skew  zcr.6_std  \n",
       "0    0.050837      0.050781   0.003418    0.297873   0.024899  \n",
       "1    0.036686      0.034180   0.003418    0.805020   0.016905  \n",
       "2    0.088439      0.086914   0.000000    3.275552   0.021831  \n",
       "3    0.102232      0.099121   0.004883    0.633483   0.034676  \n",
       "4    0.070760      0.066895   0.000977    0.769163   0.030017  \n",
       "\n",
       "[5 rows x 270 columns]"
      ]
     },
     "execution_count": 21,
     "metadata": {},
     "output_type": "execute_result"
    }
   ],
   "source": [
    "df.head()"
   ]
  },
  {
   "cell_type": "code",
   "execution_count": 22,
   "metadata": {
    "collapsed": true
   },
   "outputs": [],
   "source": [
    "X,y = df.iloc[:,4:],df.iloc[:,3]"
   ]
  },
  {
   "cell_type": "code",
   "execution_count": 23,
   "metadata": {
    "collapsed": false
   },
   "outputs": [],
   "source": [
    "X_train, X_test, y_train, y_test = train_test_split(X, y, test_size=0.33, random_state=42)"
   ]
  },
  {
   "cell_type": "code",
   "execution_count": 71,
   "metadata": {
    "collapsed": true
   },
   "outputs": [],
   "source": [
    "#KNN"
   ]
  },
  {
   "cell_type": "code",
   "execution_count": 37,
   "metadata": {
    "collapsed": true
   },
   "outputs": [],
   "source": [
    "KNN = KNeighborsClassifier()"
   ]
  },
  {
   "cell_type": "code",
   "execution_count": 38,
   "metadata": {
    "collapsed": true
   },
   "outputs": [],
   "source": [
    "parameters = {\"n_neighbors\" : [3,6,10,15]}"
   ]
  },
  {
   "cell_type": "code",
   "execution_count": 39,
   "metadata": {
    "collapsed": true
   },
   "outputs": [],
   "source": [
    "clf = GridSearchCV(estimator=KNN, param_grid=parameters, scoring = 'accuracy', verbose = 1)"
   ]
  },
  {
   "cell_type": "code",
   "execution_count": 40,
   "metadata": {
    "collapsed": false
   },
   "outputs": [
    {
     "name": "stdout",
     "output_type": "stream",
     "text": [
      "Fitting 3 folds for each of 4 candidates, totalling 12 fits\n"
     ]
    },
    {
     "name": "stderr",
     "output_type": "stream",
     "text": [
      "[Parallel(n_jobs=1)]: Done  12 out of  12 | elapsed:  1.7min finished\n"
     ]
    },
    {
     "data": {
      "text/plain": [
       "GridSearchCV(cv=None, error_score='raise',\n",
       "       estimator=KNeighborsClassifier(algorithm='auto', leaf_size=30, metric='minkowski',\n",
       "           metric_params=None, n_jobs=1, n_neighbors=5, p=2,\n",
       "           weights='uniform'),\n",
       "       fit_params=None, iid=True, n_jobs=1,\n",
       "       param_grid={'n_neighbors': [3, 6, 10, 15]}, pre_dispatch='2*n_jobs',\n",
       "       refit=True, return_train_score=True, scoring='accuracy', verbose=1)"
      ]
     },
     "execution_count": 40,
     "metadata": {},
     "output_type": "execute_result"
    }
   ],
   "source": [
    "clf.fit(X_train,y_train) "
   ]
  },
  {
   "cell_type": "code",
   "execution_count": 41,
   "metadata": {
    "collapsed": false
   },
   "outputs": [
    {
     "data": {
      "text/plain": [
       "(0.55628392912014746,\n",
       " KNeighborsClassifier(algorithm='auto', leaf_size=30, metric='minkowski',\n",
       "            metric_params=None, n_jobs=1, n_neighbors=15, p=2,\n",
       "            weights='uniform'))"
      ]
     },
     "execution_count": 41,
     "metadata": {},
     "output_type": "execute_result"
    }
   ],
   "source": [
    "clf.best_score_,clf.best_estimator_"
   ]
  },
  {
   "cell_type": "code",
   "execution_count": 42,
   "metadata": {
    "collapsed": true
   },
   "outputs": [],
   "source": [
    "KNN = clf.best_estimator_"
   ]
  },
  {
   "cell_type": "code",
   "execution_count": 43,
   "metadata": {
    "collapsed": false
   },
   "outputs": [
    {
     "data": {
      "text/plain": [
       "KNeighborsClassifier(algorithm='auto', leaf_size=30, metric='minkowski',\n",
       "           metric_params=None, n_jobs=1, n_neighbors=15, p=2,\n",
       "           weights='uniform')"
      ]
     },
     "execution_count": 43,
     "metadata": {},
     "output_type": "execute_result"
    }
   ],
   "source": [
    "KNN.fit(X_train,y_train)"
   ]
  },
  {
   "cell_type": "code",
   "execution_count": 44,
   "metadata": {
    "collapsed": false
   },
   "outputs": [
    {
     "data": {
      "text/plain": [
       "0.56207111665626952"
      ]
     },
     "execution_count": 44,
     "metadata": {},
     "output_type": "execute_result"
    }
   ],
   "source": [
    "y_pred = KNN.predict(X_test)\n",
    "accuracy_score(y_test, y_pred)"
   ]
  },
  {
   "cell_type": "code",
   "execution_count": 45,
   "metadata": {
    "collapsed": false
   },
   "outputs": [
    {
     "data": {
      "text/html": [
       "<div>\n",
       "<table border=\"1\" class=\"dataframe\">\n",
       "  <thead>\n",
       "    <tr style=\"text-align: right;\">\n",
       "      <th>Predicted Genres</th>\n",
       "      <th>Electronic</th>\n",
       "      <th>Experimental</th>\n",
       "      <th>Folk</th>\n",
       "      <th>Rock</th>\n",
       "    </tr>\n",
       "    <tr>\n",
       "      <th>Actual Genres</th>\n",
       "      <th></th>\n",
       "      <th></th>\n",
       "      <th></th>\n",
       "      <th></th>\n",
       "    </tr>\n",
       "  </thead>\n",
       "  <tbody>\n",
       "    <tr>\n",
       "      <th>Electronic</th>\n",
       "      <td>627</td>\n",
       "      <td>186</td>\n",
       "      <td>34</td>\n",
       "      <td>280</td>\n",
       "    </tr>\n",
       "    <tr>\n",
       "      <th>Experimental</th>\n",
       "      <td>330</td>\n",
       "      <td>472</td>\n",
       "      <td>86</td>\n",
       "      <td>490</td>\n",
       "    </tr>\n",
       "    <tr>\n",
       "      <th>Folk</th>\n",
       "      <td>31</td>\n",
       "      <td>123</td>\n",
       "      <td>95</td>\n",
       "      <td>125</td>\n",
       "    </tr>\n",
       "    <tr>\n",
       "      <th>Rock</th>\n",
       "      <td>192</td>\n",
       "      <td>174</td>\n",
       "      <td>55</td>\n",
       "      <td>1509</td>\n",
       "    </tr>\n",
       "  </tbody>\n",
       "</table>\n",
       "</div>"
      ],
      "text/plain": [
       "Predicted Genres  Electronic  Experimental  Folk  Rock\n",
       "Actual Genres                                         \n",
       "Electronic               627           186    34   280\n",
       "Experimental             330           472    86   490\n",
       "Folk                      31           123    95   125\n",
       "Rock                     192           174    55  1509"
      ]
     },
     "execution_count": 45,
     "metadata": {},
     "output_type": "execute_result"
    }
   ],
   "source": [
    "KNN_pred = pd.crosstab(y_test, y_pred, rownames=['Actual Genres'], colnames=['Predicted Genres'])\n",
    "KNN_pred"
   ]
  },
  {
   "cell_type": "code",
   "execution_count": 46,
   "metadata": {
    "collapsed": true
   },
   "outputs": [],
   "source": [
    "#RandomForest"
   ]
  },
  {
   "cell_type": "code",
   "execution_count": 47,
   "metadata": {
    "collapsed": false
   },
   "outputs": [],
   "source": [
    "RFC = RandomForestClassifier()"
   ]
  },
  {
   "cell_type": "code",
   "execution_count": 48,
   "metadata": {
    "collapsed": true
   },
   "outputs": [],
   "source": [
    "parameters = {\"n_estimators\" : [10,20,30,40], \"max_depth\" : [10,20,30,40]}"
   ]
  },
  {
   "cell_type": "code",
   "execution_count": 49,
   "metadata": {
    "collapsed": false
   },
   "outputs": [],
   "source": [
    "clf = GridSearchCV(estimator=RFC, param_grid=parameters, scoring = 'accuracy', verbose = 1)"
   ]
  },
  {
   "cell_type": "code",
   "execution_count": 50,
   "metadata": {
    "collapsed": false
   },
   "outputs": [
    {
     "name": "stdout",
     "output_type": "stream",
     "text": [
      "Fitting 3 folds for each of 16 candidates, totalling 48 fits\n"
     ]
    },
    {
     "name": "stderr",
     "output_type": "stream",
     "text": [
      "[Parallel(n_jobs=1)]: Done  48 out of  48 | elapsed:  2.4min finished\n"
     ]
    },
    {
     "data": {
      "text/plain": [
       "GridSearchCV(cv=None, error_score='raise',\n",
       "       estimator=RandomForestClassifier(bootstrap=True, class_weight=None, criterion='gini',\n",
       "            max_depth=None, max_features='auto', max_leaf_nodes=None,\n",
       "            min_impurity_decrease=0.0, min_impurity_split=None,\n",
       "            min_samples_leaf=1, min_samples_split=2,\n",
       "            min_weight_fraction_leaf=0.0, n_estimators=10, n_jobs=1,\n",
       "            oob_score=False, random_state=None, verbose=0,\n",
       "            warm_start=False),\n",
       "       fit_params=None, iid=True, n_jobs=1,\n",
       "       param_grid={'n_estimators': [10, 20, 30, 40], 'max_depth': [10, 20, 30, 40]},\n",
       "       pre_dispatch='2*n_jobs', refit=True, return_train_score=True,\n",
       "       scoring='accuracy', verbose=1)"
      ]
     },
     "execution_count": 50,
     "metadata": {},
     "output_type": "execute_result"
    }
   ],
   "source": [
    "clf.fit(X_train,y_train)    "
   ]
  },
  {
   "cell_type": "code",
   "execution_count": 51,
   "metadata": {
    "collapsed": false
   },
   "outputs": [
    {
     "data": {
      "text/plain": [
       "(0.70910580764109388,\n",
       " RandomForestClassifier(bootstrap=True, class_weight=None, criterion='gini',\n",
       "             max_depth=40, max_features='auto', max_leaf_nodes=None,\n",
       "             min_impurity_decrease=0.0, min_impurity_split=None,\n",
       "             min_samples_leaf=1, min_samples_split=2,\n",
       "             min_weight_fraction_leaf=0.0, n_estimators=40, n_jobs=1,\n",
       "             oob_score=False, random_state=None, verbose=0,\n",
       "             warm_start=False))"
      ]
     },
     "execution_count": 51,
     "metadata": {},
     "output_type": "execute_result"
    }
   ],
   "source": [
    "clf.best_score_,clf.best_estimator_"
   ]
  },
  {
   "cell_type": "code",
   "execution_count": 52,
   "metadata": {
    "collapsed": true
   },
   "outputs": [],
   "source": [
    "RFC = clf.best_estimator_"
   ]
  },
  {
   "cell_type": "code",
   "execution_count": 53,
   "metadata": {
    "collapsed": false
   },
   "outputs": [
    {
     "data": {
      "text/plain": [
       "RandomForestClassifier(bootstrap=True, class_weight=None, criterion='gini',\n",
       "            max_depth=40, max_features='auto', max_leaf_nodes=None,\n",
       "            min_impurity_decrease=0.0, min_impurity_split=None,\n",
       "            min_samples_leaf=1, min_samples_split=2,\n",
       "            min_weight_fraction_leaf=0.0, n_estimators=40, n_jobs=1,\n",
       "            oob_score=False, random_state=None, verbose=0,\n",
       "            warm_start=False)"
      ]
     },
     "execution_count": 53,
     "metadata": {},
     "output_type": "execute_result"
    }
   ],
   "source": [
    "RFC.fit(X_train,y_train)"
   ]
  },
  {
   "cell_type": "code",
   "execution_count": 54,
   "metadata": {
    "collapsed": true
   },
   "outputs": [],
   "source": [
    "y_pred = RFC.predict(X_test)"
   ]
  },
  {
   "cell_type": "code",
   "execution_count": 55,
   "metadata": {
    "collapsed": false
   },
   "outputs": [
    {
     "data": {
      "text/plain": [
       "0.72447494281555413"
      ]
     },
     "execution_count": 55,
     "metadata": {},
     "output_type": "execute_result"
    }
   ],
   "source": [
    "accuracy_score(y_test, y_pred)"
   ]
  },
  {
   "cell_type": "code",
   "execution_count": 56,
   "metadata": {
    "collapsed": false
   },
   "outputs": [
    {
     "data": {
      "text/html": [
       "<div>\n",
       "<table border=\"1\" class=\"dataframe\">\n",
       "  <thead>\n",
       "    <tr style=\"text-align: right;\">\n",
       "      <th>Predicted Genres</th>\n",
       "      <th>Electronic</th>\n",
       "      <th>Experimental</th>\n",
       "      <th>Folk</th>\n",
       "      <th>Rock</th>\n",
       "    </tr>\n",
       "    <tr>\n",
       "      <th>Actual Genres</th>\n",
       "      <th></th>\n",
       "      <th></th>\n",
       "      <th></th>\n",
       "      <th></th>\n",
       "    </tr>\n",
       "  </thead>\n",
       "  <tbody>\n",
       "    <tr>\n",
       "      <th>Electronic</th>\n",
       "      <td>775</td>\n",
       "      <td>228</td>\n",
       "      <td>7</td>\n",
       "      <td>117</td>\n",
       "    </tr>\n",
       "    <tr>\n",
       "      <th>Experimental</th>\n",
       "      <td>178</td>\n",
       "      <td>954</td>\n",
       "      <td>26</td>\n",
       "      <td>220</td>\n",
       "    </tr>\n",
       "    <tr>\n",
       "      <th>Folk</th>\n",
       "      <td>13</td>\n",
       "      <td>92</td>\n",
       "      <td>170</td>\n",
       "      <td>99</td>\n",
       "    </tr>\n",
       "    <tr>\n",
       "      <th>Rock</th>\n",
       "      <td>107</td>\n",
       "      <td>208</td>\n",
       "      <td>30</td>\n",
       "      <td>1585</td>\n",
       "    </tr>\n",
       "  </tbody>\n",
       "</table>\n",
       "</div>"
      ],
      "text/plain": [
       "Predicted Genres  Electronic  Experimental  Folk  Rock\n",
       "Actual Genres                                         \n",
       "Electronic               775           228     7   117\n",
       "Experimental             178           954    26   220\n",
       "Folk                      13            92   170    99\n",
       "Rock                     107           208    30  1585"
      ]
     },
     "execution_count": 56,
     "metadata": {},
     "output_type": "execute_result"
    }
   ],
   "source": [
    "RFC_pred = pd.crosstab(y_test, y_pred, rownames=['Actual Genres'], colnames=['Predicted Genres'])\n",
    "RFC_pred"
   ]
  },
  {
   "cell_type": "code",
   "execution_count": 57,
   "metadata": {
    "collapsed": true
   },
   "outputs": [],
   "source": [
    "#GradientBoosting"
   ]
  },
  {
   "cell_type": "code",
   "execution_count": 71,
   "metadata": {
    "collapsed": true
   },
   "outputs": [],
   "source": [
    "parameters = {'min_samples_split': [80,100], 'min_samples_leaf': [20,40], 'max_depth': [5,8]}"
   ]
  },
  {
   "cell_type": "code",
   "execution_count": 58,
   "metadata": {
    "collapsed": true
   },
   "outputs": [],
   "source": [
    "GBC = GradientBoostingClassifier(min_samples_split = 100, min_samples_leaf = 30, max_depth = 5, \n",
    "                                 max_features = 'sqrt', subsample = 0.8)"
   ]
  },
  {
   "cell_type": "code",
   "execution_count": 72,
   "metadata": {
    "collapsed": false
   },
   "outputs": [],
   "source": [
    "GBC = GradientBoostingClassifier()"
   ]
  },
  {
   "cell_type": "code",
   "execution_count": 73,
   "metadata": {
    "collapsed": true
   },
   "outputs": [],
   "source": [
    "clf = GridSearchCV(estimator=GBC, param_grid=parameters, scoring = 'accuracy', verbose = 1)"
   ]
  },
  {
   "cell_type": "code",
   "execution_count": 74,
   "metadata": {
    "collapsed": false
   },
   "outputs": [
    {
     "name": "stdout",
     "output_type": "stream",
     "text": [
      "Fitting 3 folds for each of 8 candidates, totalling 24 fits\n"
     ]
    },
    {
     "name": "stderr",
     "output_type": "stream",
     "text": [
      "[Parallel(n_jobs=1)]: Done  24 out of  24 | elapsed: 109.7min finished\n"
     ]
    },
    {
     "data": {
      "text/plain": [
       "GridSearchCV(cv=None, error_score='raise',\n",
       "       estimator=GradientBoostingClassifier(criterion='friedman_mse', init=None,\n",
       "              learning_rate=0.1, loss='deviance', max_depth=3,\n",
       "              max_features=None, max_leaf_nodes=None,\n",
       "              min_impurity_decrease=0.0, min_impurity_split=None,\n",
       "              min_samples_leaf=1, min_samples_split=2,\n",
       "              min_weight_fraction_leaf=0.0, n_estimators=100,\n",
       "              presort='auto', random_state=None, subsample=1.0, verbose=0,\n",
       "              warm_start=False),\n",
       "       fit_params=None, iid=True, n_jobs=1,\n",
       "       param_grid={'min_samples_split': [80, 100], 'max_depth': [5, 8], 'min_samples_leaf': [20, 40]},\n",
       "       pre_dispatch='2*n_jobs', refit=True, return_train_score=True,\n",
       "       scoring='accuracy', verbose=1)"
      ]
     },
     "execution_count": 74,
     "metadata": {},
     "output_type": "execute_result"
    }
   ],
   "source": [
    "clf.fit(X_train,y_train)"
   ]
  },
  {
   "cell_type": "code",
   "execution_count": 75,
   "metadata": {
    "collapsed": false
   },
   "outputs": [
    {
     "data": {
      "text/plain": [
       "(0.75898801597869503,\n",
       " GradientBoostingClassifier(criterion='friedman_mse', init=None,\n",
       "               learning_rate=0.1, loss='deviance', max_depth=8,\n",
       "               max_features=None, max_leaf_nodes=None,\n",
       "               min_impurity_decrease=0.0, min_impurity_split=None,\n",
       "               min_samples_leaf=40, min_samples_split=80,\n",
       "               min_weight_fraction_leaf=0.0, n_estimators=100,\n",
       "               presort='auto', random_state=None, subsample=1.0, verbose=0,\n",
       "               warm_start=False))"
      ]
     },
     "execution_count": 75,
     "metadata": {},
     "output_type": "execute_result"
    }
   ],
   "source": [
    "clf.best_score_,clf.best_estimator_"
   ]
  },
  {
   "cell_type": "code",
   "execution_count": 76,
   "metadata": {
    "collapsed": true
   },
   "outputs": [],
   "source": [
    "GBC = clf.best_estimator_"
   ]
  },
  {
   "cell_type": "code",
   "execution_count": 77,
   "metadata": {
    "collapsed": false
   },
   "outputs": [
    {
     "data": {
      "text/plain": [
       "GradientBoostingClassifier(criterion='friedman_mse', init=None,\n",
       "              learning_rate=0.1, loss='deviance', max_depth=8,\n",
       "              max_features=None, max_leaf_nodes=None,\n",
       "              min_impurity_decrease=0.0, min_impurity_split=None,\n",
       "              min_samples_leaf=40, min_samples_split=80,\n",
       "              min_weight_fraction_leaf=0.0, n_estimators=100,\n",
       "              presort='auto', random_state=None, subsample=1.0, verbose=0,\n",
       "              warm_start=False)"
      ]
     },
     "execution_count": 77,
     "metadata": {},
     "output_type": "execute_result"
    }
   ],
   "source": [
    "GBC.fit(X_train,y_train)"
   ]
  },
  {
   "cell_type": "code",
   "execution_count": 78,
   "metadata": {
    "collapsed": true
   },
   "outputs": [],
   "source": [
    "y_pred = GBC.predict(X_test)"
   ]
  },
  {
   "cell_type": "code",
   "execution_count": 79,
   "metadata": {
    "collapsed": false
   },
   "outputs": [
    {
     "data": {
      "text/plain": [
       "0.77105427323767939"
      ]
     },
     "execution_count": 79,
     "metadata": {},
     "output_type": "execute_result"
    }
   ],
   "source": [
    "accuracy_score(y_test,y_pred)"
   ]
  },
  {
   "cell_type": "code",
   "execution_count": null,
   "metadata": {
    "collapsed": true
   },
   "outputs": [],
   "source": []
  },
  {
   "cell_type": "code",
   "execution_count": 84,
   "metadata": {
    "collapsed": false
   },
   "outputs": [
    {
     "data": {
      "image/png": "[encoded data removed]",
      "text/plain": [
       "<matplotlib.figure.Figure at 0x8338290>"
      ]
     },
     "metadata": {},
     "output_type": "display_data"
    }
   ],
   "source": [
    "features = X_train.columns.values\n",
    "importances = GBC.feature_importances_\n",
    "indices = np.argsort(importances)[::-1][0:15]\n",
    "\n",
    "plt.title('Feature Importances')\n",
    "plt.barh(range(len(indices)), importances[indices], color='r', align='center')\n",
    "plt.yticks(range(len(indices)), features[indices]) ## removed [indices]\n",
    "plt.xlabel('Relative Importance')\n",
    "plt.show()"
   ]
  },
  {
   "cell_type": "code",
   "execution_count": 85,
   "metadata": {
    "collapsed": false
   },
   "outputs": [
    {
     "data": {
      "text/plain": [
       "array(['spectral_contrast.22_median', 'mfcc.62_median', 'mfcc.23_max',\n",
       "       'mfcc.123_std', 'spectral_contrast.48_std', 'rmse_kurtosis',\n",
       "       'spectral_bandwidth.3_median', 'spectral_contrast.34_min',\n",
       "       'spectral_contrast.42_std', 'mfcc.22_max', 'tonnetz.38_std',\n",
       "       'mfcc.103_skew', 'mfcc.3_kurtosis', 'spectral_contrast.47_std',\n",
       "       'mfcc.21_max', 'tonnetz.39_std', 'mfcc.24_max',\n",
       "       'spectral_contrast.13_max', 'mfcc.75_median', 'tonnetz.28_min',\n",
       "       'spectral_contrast.25_median', 'spectral_contrast_kurtosis',\n",
       "       'spectral_contrast.33_min', 'mfcc.100_skew', 'mfcc.79_median',\n",
       "       'rmse.6_std', 'spectral_contrast.5_kurtosis', 'mfcc.102_skew',\n",
       "       'spectral_contrast.29_min', 'rmse.3_median',\n",
       "       'spectral_contrast.36_skew', 'rmse.4_min', 'mfcc.65_median',\n",
       "       'tonnetz.1_kurtosis', 'spectral_contrast.24_median', 'mfcc.82_min',\n",
       "       'spectral_contrast.14_mean', 'spectral_contrast.31_min',\n",
       "       'spectral_contrast.37_skew', 'mfcc.120_std', 'mfcc.59_mean',\n",
       "       'rmse.1_max', 'mfcc.135_std', 'mfcc.60_median',\n",
       "       'spectral_contrast.3_kurtosis', 'tonnetz.10_max', 'mfcc.105_skew',\n",
       "       'mfcc.84_min', 'mfcc.43_mean', 'spectral_contrast.28_min',\n",
       "       'mfcc.20_max', 'mfcc.108_skew', 'spectral_bandwidth.1_max',\n",
       "       'tonnetz.13_mean', 'tonnetz.41_std', 'tonnetz.21_median',\n",
       "       'mfcc.106_skew', 'spectral_contrast.43_std',\n",
       "       'spectral_contrast.6_kurtosis', 'mfcc.107_skew',\n",
       "       'spectral_contrast.26_median', 'zcr.6_std', 'zcr.2_mean',\n",
       "       'rmse.2_mean', 'mfcc.134_std', 'mfcc.73_median',\n",
       "       'tonnetz.18_median', 'mfcc.132_std', 'mfcc.2_kurtosis',\n",
       "       'spectral_contrast.12_max', 'spectral_contrast.18_mean',\n",
       "       'zcr.3_median', 'mfcc.121_std', 'mfcc.78_median', 'tonnetz.6_max',\n",
       "       'spectral_contrast.21_median', 'tonnetz.29_min', 'mfcc.29_max',\n",
       "       'mfcc.128_std', 'spectral_contrast.41_skew', 'tonnetz.3_kurtosis',\n",
       "       'mfcc.53_mean', 'spectral_contrast.44_std', 'tonnetz.27_min',\n",
       "       'mfcc.109_skew', 'spectral_contrast.11_max', 'mfcc.44_mean',\n",
       "       'mfcc.51_mean', 'spectral_centroid.5_skew', 'rmse.5_skew',\n",
       "       'tonnetz_kurtosis', 'tonnetz.11_max', 'mfcc.5_kurtosis',\n",
       "       'spectral_rolloff.1_max', 'mfcc.125_std', 'mfcc.112_skew',\n",
       "       'tonnetz.24_min', 'mfcc.133_std', 'spectral_contrast.35_skew',\n",
       "       'mfcc.124_std', 'zcr.1_max', 'spectral_centroid.6_std',\n",
       "       'mfcc.47_mean', 'spectral_bandwidth.6_std', 'mfcc.83_min',\n",
       "       'mfcc.114_skew', 'spectral_bandwidth.4_min', 'mfcc.92_min',\n",
       "       'mfcc.104_skew', 'mfcc.122_std', 'mfcc.111_skew', 'mfcc.42_mean',\n",
       "       'tonnetz.5_kurtosis', 'mfcc.94_min', 'mfcc.69_median',\n",
       "       'mfcc.76_median', 'spectral_contrast.38_skew', 'mfcc.25_max',\n",
       "       'mfcc.63_median', 'mfcc.97_min', 'tonnetz.26_min', 'mfcc.26_max',\n",
       "       'mfcc.126_std', 'spectral_contrast.19_mean', 'mfcc.45_mean',\n",
       "       'mfcc.136_std', 'mfcc.56_mean', 'spectral_contrast.17_mean',\n",
       "       'tonnetz.20_median', 'zcr_kurtosis', 'mfcc.80_min', 'mfcc.41_mean',\n",
       "       'spectral_contrast.23_median', 'spectral_contrast.7_max',\n",
       "       'tonnetz.15_mean', 'mfcc.6_kurtosis', 'mfcc.101_skew',\n",
       "       'spectral_bandwidth_kurtosis', 'zcr.5_skew', 'tonnetz.37_std',\n",
       "       'spectral_contrast.20_mean', 'mfcc.50_mean', 'mfcc.89_min',\n",
       "       'tonnetz.7_max', 'mfcc.18_kurtosis', 'spectral_contrast.30_min',\n",
       "       'mfcc.98_min', 'tonnetz.2_kurtosis', 'tonnetz.4_kurtosis',\n",
       "       'spectral_contrast.46_std', 'tonnetz.12_mean',\n",
       "       'spectral_bandwidth.5_skew', 'mfcc.58_mean',\n",
       "       'spectral_contrast.27_median', 'tonnetz.40_std',\n",
       "       'spectral_centroid.1_max', 'tonnetz.17_mean', 'mfcc.99_min',\n",
       "       'tonnetz.31_skew', 'mfcc.113_skew', 'mfcc.77_median',\n",
       "       'spectral_contrast.2_kurtosis', 'mfcc.9_kurtosis',\n",
       "       'spectral_contrast.15_mean', 'mfcc.54_mean', 'tonnetz.19_median',\n",
       "       'spectral_centroid.3_median', 'mfcc.36_max', 'tonnetz.36_std',\n",
       "       'spectral_contrast.4_kurtosis', 'mfcc.130_std', 'mfcc.74_median',\n",
       "       'mfcc.139_std', 'mfcc.127_std', 'spectral_contrast.16_mean',\n",
       "       'tonnetz.34_skew', 'mfcc.91_min', 'mfcc.118_skew', 'mfcc.33_max',\n",
       "       'mfcc.61_median', 'mfcc.71_median', 'mfcc.19_kurtosis',\n",
       "       'tonnetz.30_skew', 'mfcc.34_max', 'spectral_contrast.40_skew',\n",
       "       'spectral_bandwidth.2_mean', 'tonnetz.35_skew', 'mfcc.85_min',\n",
       "       'mfcc.49_mean', 'mfcc.11_kurtosis', 'tonnetz.33_skew',\n",
       "       'mfcc.31_max', 'mfcc.64_median', 'mfcc.1_kurtosis',\n",
       "       'mfcc.13_kurtosis', 'mfcc.57_mean', 'mfcc.96_min', 'mfcc.52_mean',\n",
       "       'mfcc.46_mean', 'mfcc.115_skew', 'mfcc.55_mean', 'mfcc.10_kurtosis',\n",
       "       'mfcc.35_max', 'mfcc.16_kurtosis', 'spectral_contrast.32_min',\n",
       "       'tonnetz.25_min', 'tonnetz.32_skew', 'spectral_contrast.8_max',\n",
       "       'spectral_contrast.45_std', 'mfcc.66_median', 'mfcc.8_kurtosis',\n",
       "       'spectral_contrast.1_kurtosis', 'mfcc.67_median', 'mfcc.110_skew',\n",
       "       'mfcc.90_min', 'spectral_contrast.9_max', 'mfcc.95_min',\n",
       "       'mfcc.88_min', 'tonnetz.8_max', 'mfcc.138_std', 'tonnetz.23_median',\n",
       "       'mfcc.129_std', 'mfcc.40_mean', 'mfcc.72_median', 'tonnetz.9_max',\n",
       "       'mfcc.7_kurtosis', 'mfcc.28_max', 'mfcc.17_kurtosis',\n",
       "       'spectral_contrast.39_skew', 'mfcc.70_median', 'mfcc.4_kurtosis',\n",
       "       'mfcc.12_kurtosis', 'mfcc.86_min', 'mfcc.14_kurtosis',\n",
       "       'mfcc.119_skew', 'mfcc.87_min', 'mfcc.27_max',\n",
       "       'spectral_rolloff.3_median', 'tonnetz.14_mean', 'mfcc.38_max',\n",
       "       'tonnetz.22_median', 'mfcc_kurtosis', 'spectral_rolloff.6_std',\n",
       "       'mfcc.93_min', 'spectral_contrast.10_max', 'zcr.4_min',\n",
       "       'mfcc.116_skew', 'spectral_centroid_kurtosis', 'mfcc.137_std',\n",
       "       'spectral_rolloff_kurtosis', 'mfcc.37_max', 'tonnetz.16_mean',\n",
       "       'mfcc.131_std', 'spectral_rolloff.2_mean', 'mfcc.39_max',\n",
       "       'mfcc.48_mean', 'spectral_centroid.2_mean', 'mfcc.117_skew',\n",
       "       'mfcc.15_kurtosis', 'mfcc.32_max', 'mfcc.30_max',\n",
       "       'spectral_centroid.4_min', 'spectral_rolloff.5_skew',\n",
       "       'mfcc.68_median', 'mfcc.81_min', 'spectral_rolloff.4_min'], dtype=object)"
      ]
     },
     "execution_count": 85,
     "metadata": {},
     "output_type": "execute_result"
    }
   ],
   "source": [
    "features[np.argsort(importances)[::-1]]"
   ]
  },
  {
   "cell_type": "code",
   "execution_count": null,
   "metadata": {
    "collapsed": true
   },
   "outputs": [],
   "source": []
  },
  {
   "cell_type": "code",
   "execution_count": 86,
   "metadata": {
    "collapsed": false
   },
   "outputs": [
    {
     "data": {
      "text/html": [
       "<div>\n",
       "<table border=\"1\" class=\"dataframe\">\n",
       "  <thead>\n",
       "    <tr style=\"text-align: right;\">\n",
       "      <th>Predicted Genres</th>\n",
       "      <th>Electronic</th>\n",
       "      <th>Experimental</th>\n",
       "      <th>Folk</th>\n",
       "      <th>Rock</th>\n",
       "    </tr>\n",
       "    <tr>\n",
       "      <th>Actual Genres</th>\n",
       "      <th></th>\n",
       "      <th></th>\n",
       "      <th></th>\n",
       "      <th></th>\n",
       "    </tr>\n",
       "  </thead>\n",
       "  <tbody>\n",
       "    <tr>\n",
       "      <th>Electronic</th>\n",
       "      <td>859</td>\n",
       "      <td>168</td>\n",
       "      <td>10</td>\n",
       "      <td>90</td>\n",
       "    </tr>\n",
       "    <tr>\n",
       "      <th>Experimental</th>\n",
       "      <td>142</td>\n",
       "      <td>1023</td>\n",
       "      <td>26</td>\n",
       "      <td>187</td>\n",
       "    </tr>\n",
       "    <tr>\n",
       "      <th>Folk</th>\n",
       "      <td>9</td>\n",
       "      <td>74</td>\n",
       "      <td>204</td>\n",
       "      <td>87</td>\n",
       "    </tr>\n",
       "    <tr>\n",
       "      <th>Rock</th>\n",
       "      <td>83</td>\n",
       "      <td>187</td>\n",
       "      <td>38</td>\n",
       "      <td>1622</td>\n",
       "    </tr>\n",
       "  </tbody>\n",
       "</table>\n",
       "</div>"
      ],
      "text/plain": [
       "Predicted Genres  Electronic  Experimental  Folk  Rock\n",
       "Actual Genres                                         \n",
       "Electronic               859           168    10    90\n",
       "Experimental             142          1023    26   187\n",
       "Folk                       9            74   204    87\n",
       "Rock                      83           187    38  1622"
      ]
     },
     "execution_count": 86,
     "metadata": {},
     "output_type": "execute_result"
    }
   ],
   "source": [
    "GBC_pred = pd.crosstab(y_test, y_pred, rownames=['Actual Genres'], colnames=['Predicted Genres'])\n",
    "GBC_pred"
   ]
  },
  {
   "cell_type": "code",
   "execution_count": 87,
   "metadata": {
    "collapsed": false
   },
   "outputs": [
    {
     "data": {
      "text/html": [
       "<div>\n",
       "<table border=\"1\" class=\"dataframe\">\n",
       "  <thead>\n",
       "    <tr style=\"text-align: right;\">\n",
       "      <th>Predicted Genres</th>\n",
       "      <th>Electronic</th>\n",
       "      <th>Experimental</th>\n",
       "      <th>Folk</th>\n",
       "      <th>Rock</th>\n",
       "    </tr>\n",
       "    <tr>\n",
       "      <th>Actual Genres</th>\n",
       "      <th></th>\n",
       "      <th></th>\n",
       "      <th></th>\n",
       "      <th></th>\n",
       "    </tr>\n",
       "  </thead>\n",
       "  <tbody>\n",
       "    <tr>\n",
       "      <th>Electronic</th>\n",
       "      <td>0.76</td>\n",
       "      <td>0.15</td>\n",
       "      <td>0.01</td>\n",
       "      <td>0.08</td>\n",
       "    </tr>\n",
       "    <tr>\n",
       "      <th>Experimental</th>\n",
       "      <td>0.10</td>\n",
       "      <td>0.74</td>\n",
       "      <td>0.02</td>\n",
       "      <td>0.14</td>\n",
       "    </tr>\n",
       "    <tr>\n",
       "      <th>Folk</th>\n",
       "      <td>0.02</td>\n",
       "      <td>0.20</td>\n",
       "      <td>0.55</td>\n",
       "      <td>0.23</td>\n",
       "    </tr>\n",
       "    <tr>\n",
       "      <th>Rock</th>\n",
       "      <td>0.04</td>\n",
       "      <td>0.10</td>\n",
       "      <td>0.02</td>\n",
       "      <td>0.84</td>\n",
       "    </tr>\n",
       "  </tbody>\n",
       "</table>\n",
       "</div>"
      ],
      "text/plain": [
       "Predicted Genres  Electronic  Experimental  Folk  Rock\n",
       "Actual Genres                                         \n",
       "Electronic              0.76          0.15  0.01  0.08\n",
       "Experimental            0.10          0.74  0.02  0.14\n",
       "Folk                    0.02          0.20  0.55  0.23\n",
       "Rock                    0.04          0.10  0.02  0.84"
      ]
     },
     "execution_count": 87,
     "metadata": {},
     "output_type": "execute_result"
    }
   ],
   "source": [
    "GBC_pred.apply(lambda r: r/r.sum(), axis=1).round(2)"
   ]
  },
  {
   "cell_type": "code",
   "execution_count": 88,
   "metadata": {
    "collapsed": true
   },
   "outputs": [],
   "source": [
    "import seaborn as sns"
   ]
  },
  {
   "cell_type": "code",
   "execution_count": 89,
   "metadata": {
    "collapsed": false
   },
   "outputs": [
    {
     "data": {
      "image/png": "[encoded data removed]",
      "text/plain": [
       "<matplotlib.figure.Figure at 0x86b98d0>"
      ]
     },
     "metadata": {},
     "output_type": "display_data"
    }
   ],
   "source": [
    "fig, (ax0,ax1,ax2) = plt.subplots(1, 3, sharex=True, sharey=True)\n",
    "cbar_ax = fig.add_axes([.91,.3,.03,.4])\n",
    "sns.heatmap(KNN_pred.apply(lambda r: r/r.sum(), axis=1),ax=ax0,cbar=True,vmin=0,vmax=1,cbar_ax = cbar_ax, cmap=\"YlGnBu\")\n",
    "ax0.set_title('KNN')\n",
    "sns.heatmap(RFC_pred.apply(lambda r: r/r.sum(), axis=1),ax=ax1,cbar=True,vmin=0,vmax=1,cbar_ax = cbar_ax, cmap=\"YlGnBu\")\n",
    "ax1.set_title('RFC')\n",
    "sns.heatmap(GBC_pred.apply(lambda r: r/r.sum(), axis=1),ax=ax2,cbar=True,vmin=0,vmax=1,cbar_ax = cbar_ax, cmap=\"YlGnBu\")\n",
    "ax2.set_title('GBC')\n",
    "fig.suptitle('Classifier comparison',fontsize=15)\n",
    "\n",
    "plt.show()"
   ]
  },
  {
   "cell_type": "code",
   "execution_count": null,
   "metadata": {
    "collapsed": true
   },
   "outputs": [],
   "source": []
  }
 ],
 "metadata": {
  "kernelspec": {
   "display_name": "Python 2",
   "language": "python",
   "name": "python2"
  },
  "language_info": {
   "codemirror_mode": {
    "name": "ipython",
    "version": 2
   },
   "file_extension": ".py",
   "mimetype": "text/x-python",
   "name": "python",
   "nbconvert_exporter": "python",
   "pygments_lexer": "ipython2",
   "version": "2.7.11"
  }
 },
 "nbformat": 4,
 "nbformat_minor": 0
}
