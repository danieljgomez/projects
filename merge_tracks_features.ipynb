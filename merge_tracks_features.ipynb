{
 "cells": [
  {
   "cell_type": "code",
   "execution_count": 2,
   "metadata": {
    "collapsed": false
   },
   "outputs": [],
   "source": [
    "import pandas as pd\n",
    "import numpy as np\n",
    "import matplotlib as plt\n",
    "% matplotlib inline"
   ]
  },
  {
   "cell_type": "code",
   "execution_count": 3,
   "metadata": {
    "collapsed": false
   },
   "outputs": [],
   "source": [
    "tracks = pd.read_csv('tracks1.csv')\n",
    "features = pd.read_csv('features1.csv')"
   ]
  },
  {
   "cell_type": "code",
   "execution_count": 4,
   "metadata": {
    "collapsed": false
   },
   "outputs": [],
   "source": [
    "df = pd.merge(tracks, features, on='track_id', how='inner')"
   ]
  },
  {
   "cell_type": "code",
   "execution_count": 6,
   "metadata": {
    "collapsed": true
   },
   "outputs": [],
   "source": [
    "df = df.dropna(axis = 0, how = 'any')"
   ]
  },
  {
   "cell_type": "code",
   "execution_count": 7,
   "metadata": {
    "collapsed": false
   },
   "outputs": [
    {
     "data": {
      "text/plain": [
       "(49597, 34395, 18960)"
      ]
     },
     "execution_count": 7,
     "metadata": {},
     "output_type": "execute_result"
    }
   ],
   "source": [
    "len(tracks),len(features),len(df)"
   ]
  },
  {
   "cell_type": "code",
   "execution_count": 8,
   "metadata": {
    "collapsed": false
   },
   "outputs": [
    {
     "data": {
      "text/html": [
       "<div>\n",
       "<table border=\"1\" class=\"dataframe\">\n",
       "  <thead>\n",
       "    <tr style=\"text-align: right;\">\n",
       "      <th></th>\n",
       "      <th>track_id</th>\n",
       "      <th>track_title</th>\n",
       "      <th>artis_name</th>\n",
       "      <th>track_genre_top</th>\n",
       "      <th>chroma_cens_kurtosis</th>\n",
       "      <th>chroma_cens.1_kurtosis</th>\n",
       "      <th>chroma_cens.2_kurtosis</th>\n",
       "      <th>chroma_cens.3_kurtosis</th>\n",
       "      <th>chroma_cens.4_kurtosis</th>\n",
       "      <th>chroma_cens.5_kurtosis</th>\n",
       "      <th>...</th>\n",
       "      <th>tonnetz.39_std</th>\n",
       "      <th>tonnetz.40_std</th>\n",
       "      <th>tonnetz.41_std</th>\n",
       "      <th>zcr_kurtosis</th>\n",
       "      <th>zcr.1_max</th>\n",
       "      <th>zcr.2_mean</th>\n",
       "      <th>zcr.3_median</th>\n",
       "      <th>zcr.4_min</th>\n",
       "      <th>zcr.5_skew</th>\n",
       "      <th>zcr.6_std</th>\n",
       "    </tr>\n",
       "  </thead>\n",
       "  <tbody>\n",
       "    <tr>\n",
       "      <th>0</th>\n",
       "      <td>2</td>\n",
       "      <td>Food</td>\n",
       "      <td>AWOL</td>\n",
       "      <td>Hip-Hop</td>\n",
       "      <td>7.180653</td>\n",
       "      <td>5.230309</td>\n",
       "      <td>0.249321</td>\n",
       "      <td>1.347620</td>\n",
       "      <td>1.482478</td>\n",
       "      <td>0.531371</td>\n",
       "      <td>...</td>\n",
       "      <td>0.054125</td>\n",
       "      <td>0.012226</td>\n",
       "      <td>0.012111</td>\n",
       "      <td>5.758890</td>\n",
       "      <td>0.459473</td>\n",
       "      <td>0.085629</td>\n",
       "      <td>0.071289</td>\n",
       "      <td>0.0</td>\n",
       "      <td>2.089872</td>\n",
       "      <td>0.061448</td>\n",
       "    </tr>\n",
       "    <tr>\n",
       "      <th>1</th>\n",
       "      <td>3</td>\n",
       "      <td>Electric Ave</td>\n",
       "      <td>AWOL</td>\n",
       "      <td>Hip-Hop</td>\n",
       "      <td>1.888963</td>\n",
       "      <td>0.760539</td>\n",
       "      <td>0.345297</td>\n",
       "      <td>2.295201</td>\n",
       "      <td>1.654031</td>\n",
       "      <td>0.067592</td>\n",
       "      <td>...</td>\n",
       "      <td>0.063831</td>\n",
       "      <td>0.014212</td>\n",
       "      <td>0.017740</td>\n",
       "      <td>2.824694</td>\n",
       "      <td>0.466309</td>\n",
       "      <td>0.084578</td>\n",
       "      <td>0.063965</td>\n",
       "      <td>0.0</td>\n",
       "      <td>1.716724</td>\n",
       "      <td>0.069330</td>\n",
       "    </tr>\n",
       "    <tr>\n",
       "      <th>2</th>\n",
       "      <td>5</td>\n",
       "      <td>This World</td>\n",
       "      <td>AWOL</td>\n",
       "      <td>Hip-Hop</td>\n",
       "      <td>0.527563</td>\n",
       "      <td>-0.077654</td>\n",
       "      <td>-0.279610</td>\n",
       "      <td>0.685883</td>\n",
       "      <td>1.937570</td>\n",
       "      <td>0.880839</td>\n",
       "      <td>...</td>\n",
       "      <td>0.040730</td>\n",
       "      <td>0.012691</td>\n",
       "      <td>0.014759</td>\n",
       "      <td>6.808415</td>\n",
       "      <td>0.375000</td>\n",
       "      <td>0.053114</td>\n",
       "      <td>0.041504</td>\n",
       "      <td>0.0</td>\n",
       "      <td>2.193303</td>\n",
       "      <td>0.044861</td>\n",
       "    </tr>\n",
       "    <tr>\n",
       "      <th>3</th>\n",
       "      <td>10</td>\n",
       "      <td>Freeway</td>\n",
       "      <td>Kurt Vile</td>\n",
       "      <td>Pop</td>\n",
       "      <td>3.702245</td>\n",
       "      <td>-0.291193</td>\n",
       "      <td>2.196742</td>\n",
       "      <td>-0.234449</td>\n",
       "      <td>1.367364</td>\n",
       "      <td>0.998411</td>\n",
       "      <td>...</td>\n",
       "      <td>0.074358</td>\n",
       "      <td>0.017952</td>\n",
       "      <td>0.013921</td>\n",
       "      <td>21.434212</td>\n",
       "      <td>0.452148</td>\n",
       "      <td>0.077515</td>\n",
       "      <td>0.071777</td>\n",
       "      <td>0.0</td>\n",
       "      <td>3.542325</td>\n",
       "      <td>0.040800</td>\n",
       "    </tr>\n",
       "    <tr>\n",
       "      <th>4</th>\n",
       "      <td>134</td>\n",
       "      <td>Street Music</td>\n",
       "      <td>AWOL</td>\n",
       "      <td>Hip-Hop</td>\n",
       "      <td>0.918445</td>\n",
       "      <td>0.674147</td>\n",
       "      <td>0.577818</td>\n",
       "      <td>1.281117</td>\n",
       "      <td>0.933746</td>\n",
       "      <td>0.078177</td>\n",
       "      <td>...</td>\n",
       "      <td>0.058766</td>\n",
       "      <td>0.016322</td>\n",
       "      <td>0.015819</td>\n",
       "      <td>4.731087</td>\n",
       "      <td>0.419434</td>\n",
       "      <td>0.064370</td>\n",
       "      <td>0.050781</td>\n",
       "      <td>0.0</td>\n",
       "      <td>1.806106</td>\n",
       "      <td>0.054623</td>\n",
       "    </tr>\n",
       "  </tbody>\n",
       "</table>\n",
       "<p>5 rows × 522 columns</p>\n",
       "</div>"
      ],
      "text/plain": [
       "   track_id   track_title artis_name track_genre_top  chroma_cens_kurtosis  \\\n",
       "0         2          Food       AWOL         Hip-Hop              7.180653   \n",
       "1         3  Electric Ave       AWOL         Hip-Hop              1.888963   \n",
       "2         5    This World       AWOL         Hip-Hop              0.527563   \n",
       "3        10       Freeway  Kurt Vile             Pop              3.702245   \n",
       "4       134  Street Music       AWOL         Hip-Hop              0.918445   \n",
       "\n",
       "   chroma_cens.1_kurtosis  chroma_cens.2_kurtosis  chroma_cens.3_kurtosis  \\\n",
       "0                5.230309                0.249321                1.347620   \n",
       "1                0.760539                0.345297                2.295201   \n",
       "2               -0.077654               -0.279610                0.685883   \n",
       "3               -0.291193                2.196742               -0.234449   \n",
       "4                0.674147                0.577818                1.281117   \n",
       "\n",
       "   chroma_cens.4_kurtosis  chroma_cens.5_kurtosis    ...      tonnetz.39_std  \\\n",
       "0                1.482478                0.531371    ...            0.054125   \n",
       "1                1.654031                0.067592    ...            0.063831   \n",
       "2                1.937570                0.880839    ...            0.040730   \n",
       "3                1.367364                0.998411    ...            0.074358   \n",
       "4                0.933746                0.078177    ...            0.058766   \n",
       "\n",
       "   tonnetz.40_std  tonnetz.41_std  zcr_kurtosis  zcr.1_max  zcr.2_mean  \\\n",
       "0        0.012226        0.012111      5.758890   0.459473    0.085629   \n",
       "1        0.014212        0.017740      2.824694   0.466309    0.084578   \n",
       "2        0.012691        0.014759      6.808415   0.375000    0.053114   \n",
       "3        0.017952        0.013921     21.434212   0.452148    0.077515   \n",
       "4        0.016322        0.015819      4.731087   0.419434    0.064370   \n",
       "\n",
       "   zcr.3_median  zcr.4_min  zcr.5_skew  zcr.6_std  \n",
       "0      0.071289        0.0    2.089872   0.061448  \n",
       "1      0.063965        0.0    1.716724   0.069330  \n",
       "2      0.041504        0.0    2.193303   0.044861  \n",
       "3      0.071777        0.0    3.542325   0.040800  \n",
       "4      0.050781        0.0    1.806106   0.054623  \n",
       "\n",
       "[5 rows x 522 columns]"
      ]
     },
     "execution_count": 8,
     "metadata": {},
     "output_type": "execute_result"
    }
   ],
   "source": [
    "df.head()"
   ]
  },
  {
   "cell_type": "code",
   "execution_count": 9,
   "metadata": {
    "collapsed": false
   },
   "outputs": [
    {
     "data": {
      "text/plain": [
       "<matplotlib.axes._subplots.AxesSubplot at 0x13ccb8b0>"
      ]
     },
     "execution_count": 9,
     "metadata": {},
     "output_type": "execute_result"
    },
    {
     "data": {
      "image/png": "[encoded data removed]",
      "text/plain": [
       "<matplotlib.figure.Figure at 0x13ccbdd0>"
      ]
     },
     "metadata": {},
     "output_type": "display_data"
    }
   ],
   "source": [
    "df.track_genre_top.value_counts().plot(kind='bar')"
   ]
  },
  {
   "cell_type": "code",
   "execution_count": 10,
   "metadata": {
    "collapsed": true
   },
   "outputs": [],
   "source": [
    "keep_genres = df.track_genre_top.value_counts()[0:4].index.values"
   ]
  },
  {
   "cell_type": "code",
   "execution_count": 11,
   "metadata": {
    "collapsed": false
   },
   "outputs": [],
   "source": [
    "df = df[df.track_genre_top.isin(keep_genres)]"
   ]
  },
  {
   "cell_type": "code",
   "execution_count": 12,
   "metadata": {
    "collapsed": false
   },
   "outputs": [
    {
     "data": {
      "text/plain": [
       "14572"
      ]
     },
     "execution_count": 12,
     "metadata": {},
     "output_type": "execute_result"
    }
   ],
   "source": [
    "len(df)"
   ]
  },
  {
   "cell_type": "code",
   "execution_count": 13,
   "metadata": {
    "collapsed": false
   },
   "outputs": [
    {
     "data": {
      "text/html": [
       "<div>\n",
       "<table border=\"1\" class=\"dataframe\">\n",
       "  <thead>\n",
       "    <tr style=\"text-align: right;\">\n",
       "      <th></th>\n",
       "      <th>track_id</th>\n",
       "      <th>track_title</th>\n",
       "      <th>artis_name</th>\n",
       "      <th>track_genre_top</th>\n",
       "      <th>chroma_cens_kurtosis</th>\n",
       "      <th>chroma_cens.1_kurtosis</th>\n",
       "      <th>chroma_cens.2_kurtosis</th>\n",
       "      <th>chroma_cens.3_kurtosis</th>\n",
       "      <th>chroma_cens.4_kurtosis</th>\n",
       "      <th>chroma_cens.5_kurtosis</th>\n",
       "      <th>...</th>\n",
       "      <th>tonnetz.39_std</th>\n",
       "      <th>tonnetz.40_std</th>\n",
       "      <th>tonnetz.41_std</th>\n",
       "      <th>zcr_kurtosis</th>\n",
       "      <th>zcr.1_max</th>\n",
       "      <th>zcr.2_mean</th>\n",
       "      <th>zcr.3_median</th>\n",
       "      <th>zcr.4_min</th>\n",
       "      <th>zcr.5_skew</th>\n",
       "      <th>zcr.6_std</th>\n",
       "    </tr>\n",
       "  </thead>\n",
       "  <tbody>\n",
       "    <tr>\n",
       "      <th>5</th>\n",
       "      <td>135</td>\n",
       "      <td>Father's Day</td>\n",
       "      <td>Abominog</td>\n",
       "      <td>Rock</td>\n",
       "      <td>0.978402</td>\n",
       "      <td>0.623572</td>\n",
       "      <td>1.129261</td>\n",
       "      <td>-1.043970</td>\n",
       "      <td>-1.127288</td>\n",
       "      <td>-0.032642</td>\n",
       "      <td>...</td>\n",
       "      <td>0.104279</td>\n",
       "      <td>0.016731</td>\n",
       "      <td>0.020464</td>\n",
       "      <td>-0.038451</td>\n",
       "      <td>0.234863</td>\n",
       "      <td>0.050837</td>\n",
       "      <td>0.050781</td>\n",
       "      <td>0.003418</td>\n",
       "      <td>0.297873</td>\n",
       "      <td>0.024899</td>\n",
       "    </tr>\n",
       "    <tr>\n",
       "      <th>6</th>\n",
       "      <td>136</td>\n",
       "      <td>Peel Back The Mountain Sky</td>\n",
       "      <td>Abominog</td>\n",
       "      <td>Rock</td>\n",
       "      <td>0.915001</td>\n",
       "      <td>-0.643476</td>\n",
       "      <td>-0.460507</td>\n",
       "      <td>-0.530701</td>\n",
       "      <td>-0.364460</td>\n",
       "      <td>-0.226860</td>\n",
       "      <td>...</td>\n",
       "      <td>0.076808</td>\n",
       "      <td>0.017915</td>\n",
       "      <td>0.016706</td>\n",
       "      <td>0.558770</td>\n",
       "      <td>0.147461</td>\n",
       "      <td>0.036686</td>\n",
       "      <td>0.034180</td>\n",
       "      <td>0.003418</td>\n",
       "      <td>0.805020</td>\n",
       "      <td>0.016905</td>\n",
       "    </tr>\n",
       "    <tr>\n",
       "      <th>7</th>\n",
       "      <td>137</td>\n",
       "      <td>Side A</td>\n",
       "      <td>Airway</td>\n",
       "      <td>Experimental</td>\n",
       "      <td>1.607191</td>\n",
       "      <td>1.199649</td>\n",
       "      <td>0.745765</td>\n",
       "      <td>1.430835</td>\n",
       "      <td>-0.155455</td>\n",
       "      <td>0.768487</td>\n",
       "      <td>...</td>\n",
       "      <td>0.041466</td>\n",
       "      <td>0.011149</td>\n",
       "      <td>0.011149</td>\n",
       "      <td>40.950294</td>\n",
       "      <td>0.619629</td>\n",
       "      <td>0.088439</td>\n",
       "      <td>0.086914</td>\n",
       "      <td>0.000000</td>\n",
       "      <td>3.275552</td>\n",
       "      <td>0.021831</td>\n",
       "    </tr>\n",
       "    <tr>\n",
       "      <th>8</th>\n",
       "      <td>138</td>\n",
       "      <td>Side B</td>\n",
       "      <td>Airway</td>\n",
       "      <td>Experimental</td>\n",
       "      <td>1.501403</td>\n",
       "      <td>0.957514</td>\n",
       "      <td>1.276685</td>\n",
       "      <td>0.640389</td>\n",
       "      <td>0.442936</td>\n",
       "      <td>0.845533</td>\n",
       "      <td>...</td>\n",
       "      <td>0.045315</td>\n",
       "      <td>0.012823</td>\n",
       "      <td>0.012725</td>\n",
       "      <td>5.126394</td>\n",
       "      <td>0.627441</td>\n",
       "      <td>0.102232</td>\n",
       "      <td>0.099121</td>\n",
       "      <td>0.004883</td>\n",
       "      <td>0.633483</td>\n",
       "      <td>0.034676</td>\n",
       "    </tr>\n",
       "    <tr>\n",
       "      <th>9</th>\n",
       "      <td>139</td>\n",
       "      <td>CandyAss</td>\n",
       "      <td>Alec K. Redfearn &amp; the Eyesores</td>\n",
       "      <td>Folk</td>\n",
       "      <td>-0.020869</td>\n",
       "      <td>0.432330</td>\n",
       "      <td>0.331278</td>\n",
       "      <td>0.829845</td>\n",
       "      <td>2.625593</td>\n",
       "      <td>2.005660</td>\n",
       "      <td>...</td>\n",
       "      <td>0.090518</td>\n",
       "      <td>0.017428</td>\n",
       "      <td>0.021490</td>\n",
       "      <td>1.157352</td>\n",
       "      <td>0.261230</td>\n",
       "      <td>0.070760</td>\n",
       "      <td>0.066895</td>\n",
       "      <td>0.000977</td>\n",
       "      <td>0.769163</td>\n",
       "      <td>0.030017</td>\n",
       "    </tr>\n",
       "  </tbody>\n",
       "</table>\n",
       "<p>5 rows × 522 columns</p>\n",
       "</div>"
      ],
      "text/plain": [
       "   track_id                 track_title                       artis_name  \\\n",
       "5       135                Father's Day                         Abominog   \n",
       "6       136  Peel Back The Mountain Sky                         Abominog   \n",
       "7       137                      Side A                           Airway   \n",
       "8       138                      Side B                           Airway   \n",
       "9       139                    CandyAss  Alec K. Redfearn & the Eyesores   \n",
       "\n",
       "  track_genre_top  chroma_cens_kurtosis  chroma_cens.1_kurtosis  \\\n",
       "5            Rock              0.978402                0.623572   \n",
       "6            Rock              0.915001               -0.643476   \n",
       "7    Experimental              1.607191                1.199649   \n",
       "8    Experimental              1.501403                0.957514   \n",
       "9            Folk             -0.020869                0.432330   \n",
       "\n",
       "   chroma_cens.2_kurtosis  chroma_cens.3_kurtosis  chroma_cens.4_kurtosis  \\\n",
       "5                1.129261               -1.043970               -1.127288   \n",
       "6               -0.460507               -0.530701               -0.364460   \n",
       "7                0.745765                1.430835               -0.155455   \n",
       "8                1.276685                0.640389                0.442936   \n",
       "9                0.331278                0.829845                2.625593   \n",
       "\n",
       "   chroma_cens.5_kurtosis    ...      tonnetz.39_std  tonnetz.40_std  \\\n",
       "5               -0.032642    ...            0.104279        0.016731   \n",
       "6               -0.226860    ...            0.076808        0.017915   \n",
       "7                0.768487    ...            0.041466        0.011149   \n",
       "8                0.845533    ...            0.045315        0.012823   \n",
       "9                2.005660    ...            0.090518        0.017428   \n",
       "\n",
       "   tonnetz.41_std  zcr_kurtosis  zcr.1_max  zcr.2_mean  zcr.3_median  \\\n",
       "5        0.020464     -0.038451   0.234863    0.050837      0.050781   \n",
       "6        0.016706      0.558770   0.147461    0.036686      0.034180   \n",
       "7        0.011149     40.950294   0.619629    0.088439      0.086914   \n",
       "8        0.012725      5.126394   0.627441    0.102232      0.099121   \n",
       "9        0.021490      1.157352   0.261230    0.070760      0.066895   \n",
       "\n",
       "   zcr.4_min  zcr.5_skew  zcr.6_std  \n",
       "5   0.003418    0.297873   0.024899  \n",
       "6   0.003418    0.805020   0.016905  \n",
       "7   0.000000    3.275552   0.021831  \n",
       "8   0.004883    0.633483   0.034676  \n",
       "9   0.000977    0.769163   0.030017  \n",
       "\n",
       "[5 rows x 522 columns]"
      ]
     },
     "execution_count": 13,
     "metadata": {},
     "output_type": "execute_result"
    }
   ],
   "source": [
    "df.head()"
   ]
  },
  {
   "cell_type": "code",
   "execution_count": 14,
   "metadata": {
    "collapsed": false
   },
   "outputs": [],
   "source": [
    "df.to_csv('df_features.csv',index=False)"
   ]
  },
  {
   "cell_type": "code",
   "execution_count": null,
   "metadata": {
    "collapsed": true
   },
   "outputs": [],
   "source": []
  }
 ],
 "metadata": {
  "kernelspec": {
   "display_name": "Python 2",
   "language": "python",
   "name": "python2"
  },
  "language_info": {
   "codemirror_mode": {
    "name": "ipython",
    "version": 2
   },
   "file_extension": ".py",
   "mimetype": "text/x-python",
   "name": "python",
   "nbconvert_exporter": "python",
   "pygments_lexer": "ipython2",
   "version": "2.7.11"
  }
 },
 "nbformat": 4,
 "nbformat_minor": 0
}
