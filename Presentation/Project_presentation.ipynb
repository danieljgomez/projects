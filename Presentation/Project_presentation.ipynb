{
 "cells": [
  {
   "cell_type": "markdown",
   "metadata": {
    "slideshow": {
     "slide_type": "slide"
    }
   },
   "source": [
    "# <font color= blue> MUSIC Classification"
   ]
  },
  {
   "cell_type": "markdown",
   "metadata": {
    "slideshow": {
     "slide_type": "slide"
    }
   },
   "source": [
    "# <font color= blue> Scale and Growth of Digital Music Industry\n",
    "***\n",
    "- YouTube has ~1.5B monthly active users and a revenue of 40B\n",
    "- Digital Music revenue(subscription+ streaming+ Download) has grown 10% YoY\n",
    "- Physical Music revenue has dropped 10% YoY"
   ]
  },
  {
   "cell_type": "markdown",
   "metadata": {
    "slideshow": {
     "slide_type": "subslide"
    }
   },
   "source": [
    "<img src=\"Music_Growth.png\", width=700, height=900, align=middle>"
   ]
  },
  {
   "cell_type": "markdown",
   "metadata": {
    "slideshow": {
     "slide_type": "slide"
    }
   },
   "source": [
    "## <font color= blue> Music Consuption has become predominantly Digital\n",
    "***\n",
    "\n",
    "\n",
    "- For the first time, we have the Data to understand user behaviour\n",
    "- Understanding user behaviour is a key to growth of music platforms"
   ]
  },
  {
   "attachments": {},
   "cell_type": "markdown",
   "metadata": {
    "slideshow": {
     "slide_type": "slide"
    }
   },
   "source": [
    "# <font color= blue> Music Recommendation\n",
    "***\n",
    "\n",
    "## 1. Collaborative Filtering of User behaviour\n",
    "- Agnostic of Music content\n",
    "- Accurate with large datasets\n",
    "\n",
    "    \n",
    "## 2. Understanding and modeling using Music content\n",
    "\n",
    "- Understand the human perception of music\n",
    "- Build recommendation engine on top of that\n",
    "- __Music classification is the key__\n",
    "\n"
   ]
  },
  {
   "cell_type": "markdown",
   "metadata": {
    "slideshow": {
     "slide_type": "slide"
    }
   },
   "source": [
    "# <font color= blue> Goal: Music Classification\n",
    "***"
   ]
  },
  {
   "cell_type": "code",
   "execution_count": 6,
   "metadata": {
    "collapsed": true,
    "slideshow": {
     "slide_type": "skip"
    }
   },
   "outputs": [],
   "source": [
    "# Skipped cell- insert all imports here\n",
    "\n",
    "import pandas as pd\n",
    "import numpy as np\n",
    "import matplotlib.pyplot as plt\n",
    "\n"
   ]
  },
  {
   "cell_type": "markdown",
   "metadata": {
    "slideshow": {
     "slide_type": "slide"
    }
   },
   "source": [
    "## <font color= blue> Features\n",
    "***\n",
    "\n",
    "<img src=\"Features_smartart.png\", width=1200, height=1000, align=middle>\n",
    "\n",
    "\n",
    "* Each feature has 7 sub_features -> Mean, Median, Min, Max, Std.Dev, Skew and Kurtosis"
   ]
  },
  {
   "cell_type": "markdown",
   "metadata": {
    "slideshow": {
     "slide_type": "slide"
    }
   },
   "source": [
    "# <font color= blue> Methodology\n",
    "\n",
    "### We have used four approaces to predict Genres:\n",
    "\n",
    "> #### 1. KNN\n",
    "> #### 2. Random Forest\n",
    "> #### 3. Gradient Boosting\n",
    "> #### 4. Neural Network"
   ]
  },
  {
   "cell_type": "markdown",
   "metadata": {
    "slideshow": {
     "slide_type": "slide"
    }
   },
   "source": [
    "## <font color= blue> KNN"
   ]
  },
  {
   "cell_type": "markdown",
   "metadata": {
    "slideshow": {
     "slide_type": "slide"
    }
   },
   "source": [
    "## <font color= blue> Random Forest"
   ]
  },
  {
   "cell_type": "markdown",
   "metadata": {
    "slideshow": {
     "slide_type": "slide"
    }
   },
   "source": [
    "## <font color= blue> Gradient Boost"
   ]
  },
  {
   "cell_type": "markdown",
   "metadata": {
    "slideshow": {
     "slide_type": "slide"
    }
   },
   "source": [
    "## <font color= blue> Neural Network"
   ]
  },
  {
   "cell_type": "markdown",
   "metadata": {
    "slideshow": {
     "slide_type": "slide"
    }
   },
   "source": [
    "# <font color= blue> Results"
   ]
  },
  {
   "cell_type": "markdown",
   "metadata": {
    "collapsed": true,
    "slideshow": {
     "slide_type": "slide"
    }
   },
   "source": [
    "# Way Forward\n",
    "\n",
    "## -  "
   ]
  },
  {
   "cell_type": "code",
   "execution_count": null,
   "metadata": {
    "collapsed": true
   },
   "outputs": [],
   "source": []
  }
 ],
 "metadata": {
  "celltoolbar": "Slideshow",
  "kernelspec": {
   "display_name": "Python 2",
   "language": "python",
   "name": "python2"
  },
  "language_info": {
   "codemirror_mode": {
    "name": "ipython",
    "version": 2
   },
   "file_extension": ".py",
   "mimetype": "text/x-python",
   "name": "python",
   "nbconvert_exporter": "python",
   "pygments_lexer": "ipython2",
   "version": "2.7.13"
  }
 },
 "nbformat": 4,
 "nbformat_minor": 2
}
