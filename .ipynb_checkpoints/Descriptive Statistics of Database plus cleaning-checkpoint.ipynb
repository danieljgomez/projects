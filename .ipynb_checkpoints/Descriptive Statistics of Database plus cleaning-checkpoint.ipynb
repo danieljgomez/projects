{
 "cells": [
  {
   "cell_type": "code",
   "execution_count": 1,
   "metadata": {
    "collapsed": true
   },
   "outputs": [],
   "source": [
    "import pandas as pd\n",
    "import numpy as np\n",
    "import matplotlib.pyplot as plt\n",
    "import networkx as nx\n",
    "from networkx.drawing.nx_agraph import to_agraph\n",
    "from IPython.display import Image\n",
    "import seaborn as sn\n",
    "% matplotlib inline"
   ]
  },
  {
   "cell_type": "code",
   "execution_count": 2,
   "metadata": {
    "collapsed": false
   },
   "outputs": [
    {
     "name": "stderr",
     "output_type": "stream",
     "text": [
      "/home/marianne/anaconda/lib/python2.7/site-packages/IPython/core/interactiveshell.py:2717: DtypeWarning: Columns (0,1,5,6,8,12,18,20,21,22,24,33,34,38,39,44,47,49) have mixed types. Specify dtype option on import or set low_memory=False.\n",
      "  interactivity=interactivity, compiler=compiler, result=result)\n",
      "/home/marianne/anaconda/lib/python2.7/site-packages/IPython/core/interactiveshell.py:2717: DtypeWarning: Columns (0,1,2,3,4,5,6,7,8,9,10,11,12,13,14,15,16,17,18,19,20,21,22,23,24,25,26,27,28,29,30,31,32,33,34,35,36,37,38,39,40,41,42,43,44,45,46,47,48,49,50,51,52,53,54,55,56,57,58,59,60,61,62,63,64,65,66,67,68,69,70,71,72,73,74,75,76,77,78,79,80,81,82,83,84,85,86,87,88,89,90,91,92,93,94,95,96,97,98,99,100,101,102,103,104,105,106,107,108,109,110,111,112,113,114,115,116,117,118,119,120,121,122,123,124,125,126,127,128,129,130,131,132,133,134,135,136,137,138,139,140,141,142,143,144,145,146,147,148,149,150,151,152,153,154,155,156,157,158,159,160,161,162,163,164,165,166,167,168,169,170,171,172,173,174,175,176,177,178,179,180,181,182,183,184,185,186,187,188,189,190,191,192,193,194,195,196,197,198,199,200,201,202,203,204,205,206,207,208,209,210,211,212,213,214,215,216,217,218,219,220,221,222,223,224,225,226,227,228,229,230,231,232,233,234,235,236,237,238,239,240,241,242,243,244,245,246,247,248,249,250,251,252,253,254,255,256,257,258,259,260,261,262,263,264,265,266,267,268,269,270,271,272,273,274,275,276,277,278,279,280,281,282,283,284,285,286,287,288,289,290,291,292,293,294,295,296,297,298,299,300,301,302,303,304,305,306,307,308,309,310,311,312,313,314,315,316,317,318,319,320,321,322,323,324,325,326,327,328,329,330,331,332,333,334,335,336,337,338,339,340,341,342,343,344,345,346,347,348,349,350,351,352,353,354,355,356,357,358,359,360,361,362,363,364,365,366,367,368,369,370,371,372,373,374,375,376,377,378,379,380,381,382,383,384,385,386,387,388,389,390,391,392,393,394,395,396,397,398,399,400,401,402,403,404,405,406,407,408,409,410,411,412,413,414,415,416,417,418,419,420,421,422,423,424,425,426,427,428,429,430,431,432,433,434,435,436,437,438,439,440,441,442,443,444,445,446,447,448,449,450,451,452,453,454,455,456,457,458,459,460,461,462,463,464,465,466,467,468,469,470,471,472,473,474,475,476,477,478,479,480,481,482,483,484,485,486,487,488,489,490,491,492,493,494,495,496,497,498,499,500,501,502,503,504,505,506,507,508,509,510,511,512,513,514,515,516,517,518) have mixed types. Specify dtype option on import or set low_memory=False.\n",
      "  interactivity=interactivity, compiler=compiler, result=result)\n"
     ]
    }
   ],
   "source": [
    "tracks = pd.read_csv('~/Documents/fma_metadata/tracks.csv')#this is the database containing the description of each tracks\n",
    "features = pd.read_csv('~/Documents/fma_metadata/features.csv')#this is the database containing the features of each tracks\n",
    "genres=pd.read_csv('~/Documents/fma_metadata/genres.csv')"
   ]
  },
  {
   "cell_type": "markdown",
   "metadata": {},
   "source": [
    "# Part A: cleaning of the database"
   ]
  },
  {
   "cell_type": "markdown",
   "metadata": {},
   "source": [
    "In this part, we clean the database and keep only the descriptive variables that are related to the genre of the data."
   ]
  },
  {
   "cell_type": "code",
   "execution_count": 3,
   "metadata": {
    "collapsed": true
   },
   "outputs": [],
   "source": [
    "tracks['Unnamed: 0'].iloc[0] = tracks['Unnamed: 0'].iloc[1]\n",
    "\n",
    "tracks.columns = [col[0:5] + '_' + tracks[col][0] for col in tracks.columns]\n",
    "tracks.columns.values[0] = 'track_id'\n",
    "\n",
    "tracks = tracks[2:]\n",
    "tracks = tracks.reset_index(drop=True)"
   ]
  },
  {
   "cell_type": "code",
   "execution_count": 4,
   "metadata": {
    "collapsed": true
   },
   "outputs": [],
   "source": [
    "keep_variables = ['track_id','track_title','track_genre_top','track_genres','track_genres_all']\n",
    "tracks = tracks[keep_variables]"
   ]
  },
  {
   "cell_type": "code",
   "execution_count": 5,
   "metadata": {
    "collapsed": true
   },
   "outputs": [],
   "source": [
    "features.columns = [col+ '_' + features[col][0] for col in features.columns]\n",
    "features.columns.values[0] = 'track_id'\n",
    "\n",
    "features = features[3:]\n",
    "features = features.reset_index(drop=True)"
   ]
  },
  {
   "cell_type": "markdown",
   "metadata": {},
   "source": [
    "Here, we merge the dataframe containing the description of the tracks and the dataframe containing the features. The dataframe df_final wil be the datafram that we will use for our work.\n",
    "There is three variables that describe the genre of the song: the variable track_genre_top gives the main genre of the song. If the songs has multiple genres, it is Nan. Thhe track_genres variable gives a list containing the id of all the genres of the song. Track_genres_all gives a list containing the id of all the genres and subgenres of the song. The genre ids can be found in the genre.csv file."
   ]
  },
  {
   "cell_type": "code",
   "execution_count": 6,
   "metadata": {
    "collapsed": true
   },
   "outputs": [],
   "source": [
    "df_final = pd.merge(tracks, features, on='track_id', how='inner')\n",
    "df_final.to_csv('df_final.csv',index=False)"
   ]
  },
  {
   "cell_type": "markdown",
   "metadata": {},
   "source": [
    "# Part B: Descriptive statistics on our cleaned database"
   ]
  },
  {
   "cell_type": "markdown",
   "metadata": {},
   "source": [
    "Our database contains 19034 songs. Each song has a specific id and title and has 523 features that describe the song (fourier transform analysis, id, title, genre,subgenres etc). "
   ]
  },
  {
   "cell_type": "code",
   "execution_count": 7,
   "metadata": {
    "collapsed": false
   },
   "outputs": [
    {
     "data": {
      "text/plain": [
       "91213"
      ]
     },
     "execution_count": 7,
     "metadata": {},
     "output_type": "execute_result"
    }
   ],
   "source": [
    "len(df_final)"
   ]
  },
  {
   "cell_type": "code",
   "execution_count": 8,
   "metadata": {
    "collapsed": false
   },
   "outputs": [
    {
     "data": {
      "text/plain": [
       "523"
      ]
     },
     "execution_count": 8,
     "metadata": {},
     "output_type": "execute_result"
    }
   ],
   "source": [
    "len(df_final.columns)"
   ]
  },
  {
   "cell_type": "code",
   "execution_count": 9,
   "metadata": {
    "collapsed": false
   },
   "outputs": [
    {
     "data": {
      "text/html": [
       "<div>\n",
       "<style>\n",
       "    .dataframe thead tr:only-child th {\n",
       "        text-align: right;\n",
       "    }\n",
       "\n",
       "    .dataframe thead th {\n",
       "        text-align: left;\n",
       "    }\n",
       "\n",
       "    .dataframe tbody tr th {\n",
       "        vertical-align: top;\n",
       "    }\n",
       "</style>\n",
       "<table border=\"1\" class=\"dataframe\">\n",
       "  <thead>\n",
       "    <tr style=\"text-align: right;\">\n",
       "      <th></th>\n",
       "      <th>track_id</th>\n",
       "      <th>track_title</th>\n",
       "      <th>track_genre_top</th>\n",
       "      <th>track_genres</th>\n",
       "      <th>track_genres_all</th>\n",
       "      <th>chroma_cens_kurtosis</th>\n",
       "      <th>chroma_cens.1_kurtosis</th>\n",
       "      <th>chroma_cens.2_kurtosis</th>\n",
       "      <th>chroma_cens.3_kurtosis</th>\n",
       "      <th>chroma_cens.4_kurtosis</th>\n",
       "      <th>...</th>\n",
       "      <th>tonnetz.39_std</th>\n",
       "      <th>tonnetz.40_std</th>\n",
       "      <th>tonnetz.41_std</th>\n",
       "      <th>zcr_kurtosis</th>\n",
       "      <th>zcr.1_max</th>\n",
       "      <th>zcr.2_mean</th>\n",
       "      <th>zcr.3_median</th>\n",
       "      <th>zcr.4_min</th>\n",
       "      <th>zcr.5_skew</th>\n",
       "      <th>zcr.6_std</th>\n",
       "    </tr>\n",
       "  </thead>\n",
       "  <tbody>\n",
       "    <tr>\n",
       "      <th>0</th>\n",
       "      <td>2</td>\n",
       "      <td>Food</td>\n",
       "      <td>Hip-Hop</td>\n",
       "      <td>[21]</td>\n",
       "      <td>[21]</td>\n",
       "      <td>7.1806526184e+00</td>\n",
       "      <td>5.2303090096e+00</td>\n",
       "      <td>2.4932080507e-01</td>\n",
       "      <td>1.3476201296e+00</td>\n",
       "      <td>1.4824777842e+00</td>\n",
       "      <td>...</td>\n",
       "      <td>5.4125156254e-02</td>\n",
       "      <td>1.2225749902e-02</td>\n",
       "      <td>1.2110591866e-02</td>\n",
       "      <td>5.7588901520e+00</td>\n",
       "      <td>4.5947265625e-01</td>\n",
       "      <td>8.5629448295e-02</td>\n",
       "      <td>7.1289062500e-02</td>\n",
       "      <td>0.0000000000e+00</td>\n",
       "      <td>2.0898721218e+00</td>\n",
       "      <td>6.1448108405e-02</td>\n",
       "    </tr>\n",
       "    <tr>\n",
       "      <th>1</th>\n",
       "      <td>3</td>\n",
       "      <td>Electric Ave</td>\n",
       "      <td>Hip-Hop</td>\n",
       "      <td>[21]</td>\n",
       "      <td>[21]</td>\n",
       "      <td>1.8889633417e+00</td>\n",
       "      <td>7.6053929329e-01</td>\n",
       "      <td>3.4529656172e-01</td>\n",
       "      <td>2.2952005863e+00</td>\n",
       "      <td>1.6540306807e+00</td>\n",
       "      <td>...</td>\n",
       "      <td>6.3831120729e-02</td>\n",
       "      <td>1.4211839065e-02</td>\n",
       "      <td>1.7740072682e-02</td>\n",
       "      <td>2.8246941566e+00</td>\n",
       "      <td>4.6630859375e-01</td>\n",
       "      <td>8.4578499198e-02</td>\n",
       "      <td>6.3964843750e-02</td>\n",
       "      <td>0.0000000000e+00</td>\n",
       "      <td>1.7167237997e+00</td>\n",
       "      <td>6.9330163300e-02</td>\n",
       "    </tr>\n",
       "    <tr>\n",
       "      <th>2</th>\n",
       "      <td>5</td>\n",
       "      <td>This World</td>\n",
       "      <td>Hip-Hop</td>\n",
       "      <td>[21]</td>\n",
       "      <td>[21]</td>\n",
       "      <td>5.2756297588e-01</td>\n",
       "      <td>-7.7654317021e-02</td>\n",
       "      <td>-2.7961030602e-01</td>\n",
       "      <td>6.8588310480e-01</td>\n",
       "      <td>1.9375696182e+00</td>\n",
       "      <td>...</td>\n",
       "      <td>4.0730185807e-02</td>\n",
       "      <td>1.2690781616e-02</td>\n",
       "      <td>1.4759079553e-02</td>\n",
       "      <td>6.8084154129e+00</td>\n",
       "      <td>3.7500000000e-01</td>\n",
       "      <td>5.3114086390e-02</td>\n",
       "      <td>4.1503906250e-02</td>\n",
       "      <td>0.0000000000e+00</td>\n",
       "      <td>2.1933031082e+00</td>\n",
       "      <td>4.4860601425e-02</td>\n",
       "    </tr>\n",
       "    <tr>\n",
       "      <th>3</th>\n",
       "      <td>10</td>\n",
       "      <td>Freeway</td>\n",
       "      <td>Pop</td>\n",
       "      <td>[10]</td>\n",
       "      <td>[10]</td>\n",
       "      <td>3.7022454739e+00</td>\n",
       "      <td>-2.9119303823e-01</td>\n",
       "      <td>2.1967420578e+00</td>\n",
       "      <td>-2.3444947600e-01</td>\n",
       "      <td>1.3673638105e+00</td>\n",
       "      <td>...</td>\n",
       "      <td>7.4357867241e-02</td>\n",
       "      <td>1.7951935530e-02</td>\n",
       "      <td>1.3921394013e-02</td>\n",
       "      <td>2.1434211731e+01</td>\n",
       "      <td>4.5214843750e-01</td>\n",
       "      <td>7.7514506876e-02</td>\n",
       "      <td>7.1777343750e-02</td>\n",
       "      <td>0.0000000000e+00</td>\n",
       "      <td>3.5423245430e+00</td>\n",
       "      <td>4.0800448507e-02</td>\n",
       "    </tr>\n",
       "    <tr>\n",
       "      <th>4</th>\n",
       "      <td>20</td>\n",
       "      <td>Spiritual Level</td>\n",
       "      <td>NaN</td>\n",
       "      <td>[76, 103]</td>\n",
       "      <td>[17, 10, 76, 103]</td>\n",
       "      <td>-1.9383698702e-01</td>\n",
       "      <td>-1.9852678478e-01</td>\n",
       "      <td>2.0154602826e-01</td>\n",
       "      <td>2.5855624676e-01</td>\n",
       "      <td>7.7520370483e-01</td>\n",
       "      <td>...</td>\n",
       "      <td>9.5002755523e-02</td>\n",
       "      <td>2.2492416203e-02</td>\n",
       "      <td>2.1355332807e-02</td>\n",
       "      <td>1.6669036865e+01</td>\n",
       "      <td>4.6972656250e-01</td>\n",
       "      <td>4.7224905342e-02</td>\n",
       "      <td>4.0039062500e-02</td>\n",
       "      <td>9.7656250000e-04</td>\n",
       "      <td>3.1898307800e+00</td>\n",
       "      <td>3.0992921442e-02</td>\n",
       "    </tr>\n",
       "  </tbody>\n",
       "</table>\n",
       "<p>5 rows × 523 columns</p>\n",
       "</div>"
      ],
      "text/plain": [
       "  track_id      track_title track_genre_top track_genres   track_genres_all  \\\n",
       "0        2             Food         Hip-Hop         [21]               [21]   \n",
       "1        3     Electric Ave         Hip-Hop         [21]               [21]   \n",
       "2        5       This World         Hip-Hop         [21]               [21]   \n",
       "3       10          Freeway             Pop         [10]               [10]   \n",
       "4       20  Spiritual Level             NaN    [76, 103]  [17, 10, 76, 103]   \n",
       "\n",
       "  chroma_cens_kurtosis chroma_cens.1_kurtosis chroma_cens.2_kurtosis  \\\n",
       "0     7.1806526184e+00       5.2303090096e+00       2.4932080507e-01   \n",
       "1     1.8889633417e+00       7.6053929329e-01       3.4529656172e-01   \n",
       "2     5.2756297588e-01      -7.7654317021e-02      -2.7961030602e-01   \n",
       "3     3.7022454739e+00      -2.9119303823e-01       2.1967420578e+00   \n",
       "4    -1.9383698702e-01      -1.9852678478e-01       2.0154602826e-01   \n",
       "\n",
       "  chroma_cens.3_kurtosis chroma_cens.4_kurtosis        ...         \\\n",
       "0       1.3476201296e+00       1.4824777842e+00        ...          \n",
       "1       2.2952005863e+00       1.6540306807e+00        ...          \n",
       "2       6.8588310480e-01       1.9375696182e+00        ...          \n",
       "3      -2.3444947600e-01       1.3673638105e+00        ...          \n",
       "4       2.5855624676e-01       7.7520370483e-01        ...          \n",
       "\n",
       "     tonnetz.39_std    tonnetz.40_std    tonnetz.41_std      zcr_kurtosis  \\\n",
       "0  5.4125156254e-02  1.2225749902e-02  1.2110591866e-02  5.7588901520e+00   \n",
       "1  6.3831120729e-02  1.4211839065e-02  1.7740072682e-02  2.8246941566e+00   \n",
       "2  4.0730185807e-02  1.2690781616e-02  1.4759079553e-02  6.8084154129e+00   \n",
       "3  7.4357867241e-02  1.7951935530e-02  1.3921394013e-02  2.1434211731e+01   \n",
       "4  9.5002755523e-02  2.2492416203e-02  2.1355332807e-02  1.6669036865e+01   \n",
       "\n",
       "          zcr.1_max        zcr.2_mean      zcr.3_median         zcr.4_min  \\\n",
       "0  4.5947265625e-01  8.5629448295e-02  7.1289062500e-02  0.0000000000e+00   \n",
       "1  4.6630859375e-01  8.4578499198e-02  6.3964843750e-02  0.0000000000e+00   \n",
       "2  3.7500000000e-01  5.3114086390e-02  4.1503906250e-02  0.0000000000e+00   \n",
       "3  4.5214843750e-01  7.7514506876e-02  7.1777343750e-02  0.0000000000e+00   \n",
       "4  4.6972656250e-01  4.7224905342e-02  4.0039062500e-02  9.7656250000e-04   \n",
       "\n",
       "         zcr.5_skew         zcr.6_std  \n",
       "0  2.0898721218e+00  6.1448108405e-02  \n",
       "1  1.7167237997e+00  6.9330163300e-02  \n",
       "2  2.1933031082e+00  4.4860601425e-02  \n",
       "3  3.5423245430e+00  4.0800448507e-02  \n",
       "4  3.1898307800e+00  3.0992921442e-02  \n",
       "\n",
       "[5 rows x 523 columns]"
      ]
     },
     "execution_count": 9,
     "metadata": {},
     "output_type": "execute_result"
    }
   ],
   "source": [
    "df_final.head()"
   ]
  },
  {
   "cell_type": "markdown",
   "metadata": {},
   "source": [
    "Let us study the different genres that exists in our database and how they are distributed. For this, we first create a tree in which every node is a genre, and the children of the node are the subgenres of the genre."
   ]
  },
  {
   "cell_type": "code",
   "execution_count": 10,
   "metadata": {
    "collapsed": false
   },
   "outputs": [],
   "source": [
    "G = nx.DiGraph()\n",
    "#Function that inputs the id of the genre and outputs the title of the genre\n",
    "def get_title(genreid,genres=genres):\n",
    "    return(genres.title[genres.genre_id==genreid].unique()[0])\n",
    "#Function that inputs the title of the genre and outputs the id of the genre\n",
    "def get_id(genretitle,genres=genres):\n",
    "    return(genres.genre_id[genres.title==genretitle].unique()[0])\n",
    "#Function that inputs the title of a genre and outputs the subgenres of the genre\n",
    "def get_subgenres(genretitle,G=G):\n",
    "    return([edge[1] for edge in G.edges(genretitle)])\n",
    "    \n",
    "    "
   ]
  },
  {
   "cell_type": "code",
   "execution_count": 11,
   "metadata": {
    "collapsed": false
   },
   "outputs": [
    {
     "name": "stderr",
     "output_type": "stream",
     "text": [
      "/home/marianne/anaconda/lib/python2.7/site-packages/ipykernel/__main__.py:5: DeprecationWarning: elementwise == comparison failed; this will raise an error in the future.\n"
     ]
    },
    {
     "data": {
      "text/plain": [
       "True"
      ]
     },
     "execution_count": 11,
     "metadata": {},
     "output_type": "execute_result"
    }
   ],
   "source": [
    "G.add_node(\"Genres\")\n",
    "parents=genres.genre_id[genres.parent==0].unique()\n",
    "for parent in parents:\n",
    "    G.add_edge(\"Genres\",get_title(parent))\n",
    "while  not parents==[]:\n",
    "    all_children=[]\n",
    "    for parent in parents:\n",
    "        children=genres.genre_id[genres.parent==parent].unique()\n",
    "        all_children.extend(children)\n",
    "        for child in children:\n",
    "            G.add_edge(get_title(parent),get_title(child))\n",
    "    parents=all_children\n",
    "p=nx.drawing.nx_pydot.to_pydot(G)\n",
    "p.write_png('Tree_genres.png')"
   ]
  },
  {
   "cell_type": "markdown",
   "metadata": {},
   "source": [
    "There is a total of 163 genres in our database, with 15 main genres. To illustrate how our graph works, let us look into the subgenres of all of our main genres."
   ]
  },
  {
   "cell_type": "code",
   "execution_count": 12,
   "metadata": {
    "collapsed": false
   },
   "outputs": [
    {
     "data": {
      "text/plain": [
       "164"
      ]
     },
     "execution_count": 12,
     "metadata": {},
     "output_type": "execute_result"
    }
   ],
   "source": [
    "len(G.nodes())"
   ]
  },
  {
   "cell_type": "code",
   "execution_count": 13,
   "metadata": {
    "collapsed": false
   },
   "outputs": [
    {
     "name": "stdout",
     "output_type": "stream",
     "text": [
      "Instrumental : ['Soundtrack', 'New Age', 'Ambient']\n",
      "\n",
      "Classical : ['Chamber Music', 'Opera', 'Choral Music', 'Symphony', 'Composed Music', '20th Century Classical', 'Contemporary Classical']\n",
      "\n",
      "Spoken : ['Spoken Word', 'Spoken Weird', 'Banter', 'Poetry', 'Musical Theater', 'Radio', 'Radio Theater', 'Comedy']\n",
      "\n",
      "Country : ['Country & Western', 'Bluegrass', 'Rockabilly', 'Americana']\n",
      "\n",
      "Jazz : ['Jazz: Out', 'Jazz: Vocal', 'Free-Jazz', 'Big Band/Swing', 'Be-Bop', 'Modern Jazz']\n",
      "\n",
      "Old-Time / Historic : []\n",
      "\n",
      "Pop : ['Synth Pop', 'Experimental Pop']\n",
      "\n",
      "Easy Listening : ['Lounge', 'Nu-Jazz', 'Easy Listening: Vocal']\n",
      "\n",
      "Soul-RnB : ['Funk', 'Disco']\n",
      "\n",
      "Hip-Hop : ['Hip-Hop Beats', 'Nerdcore', 'Wonky', 'Abstract Hip-Hop', 'Rap', 'Breakbeat', 'Alternative Hip-Hop']\n",
      "\n",
      "Rock : ['Goth', 'Loud-Rock', 'Progressive', 'Indie-Rock', 'Rock Opera', 'Punk', 'Lo-Fi', 'Metal', 'Garage', 'New Wave', 'Psych-Rock', 'Post-Rock', 'Krautrock', 'Industrial', 'Shoegaze']\n",
      "\n",
      "International : ['Europe', 'Celtic', 'Flamenco', 'Latin', 'Asia-Far East', 'Balkan', 'Polka', 'French', 'Indian', 'Middle East', 'Brazilian', 'African', 'Reggae - Dub', 'Pacific', 'Latin America']\n",
      "\n",
      "Blues : ['Gospel']\n",
      "\n",
      "Electronic : ['Dubstep', 'Glitch', 'Techno', 'House', 'Chip Music', 'Breakcore - Hard', 'Minimal Electronic', 'Ambient Electronic', 'Jungle', 'IDM', 'Drum & Bass', 'Trip-Hop', 'Downtempo', 'Dance']\n",
      "\n",
      "Folk : ['Singer-Songwriter', 'Free-Folk', 'Freak-Folk', 'Psych-Folk', 'British Folk']\n",
      "\n",
      "Experimental : ['Noise', 'Novelty', 'Field Recordings', 'Drone', 'Sound Collage', 'Unclassifiable', 'Avant-Garde', 'Audio Collage', 'Musique Concrete', 'Improv', 'Minimalism', 'Sound Poetry', 'Electroacoustic', 'Sound Art']\n",
      "\n"
     ]
    }
   ],
   "source": [
    "for i in get_subgenres(\"Genres\"):\n",
    "    print(i + \" : \"+ str(get_subgenres(i))+ \"\\n\")"
   ]
  },
  {
   "cell_type": "code",
   "execution_count": 14,
   "metadata": {
    "collapsed": false
   },
   "outputs": [
    {
     "data": {
      "text/plain": [
       "<matplotlib.text.Text at 0x7f6967b2d1d0>"
      ]
     },
     "execution_count": 14,
     "metadata": {},
     "output_type": "execute_result"
    },
    {
     "data": {
      "image/png": "[encoded data removed]",
      "text/plain": [
       "<matplotlib.figure.Figure at 0x7f69676a7cd0>"
      ]
     },
     "metadata": {},
     "output_type": "display_data"
    }
   ],
   "source": [
    "count=df_final.track_genre_top.value_counts()\n",
    "sn.set_style(\"whitegrid\")\n",
    "plt.xticks(rotation=90)\n",
    "sn.barplot(x=count.index,y=count.values)\n",
    "plt.title(\"Distribution of the main genres\")"
   ]
  },
  {
   "cell_type": "markdown",
   "metadata": {},
   "source": [
    "Features.csv\n",
    "\n",
    "Essentially, the way they created the ~500 columns of the features comes from running every function on the music analysis package “libROSA” on the given track, then computing the mean, standard deviation, skew, kurtosis, median, min, and max of that output. Therefore, each output from libROSA gives us at least 7 columns, and more on the functions that already output multiple columns. These functions are as such:\n",
    "\n",
    "chroma_stft:\n",
    "\tOutput: 12 columns, one for each note (there are 12 notes in an octave)\n",
    "\tEnd result: 12 x 7 = 84 columns\n",
    "\n",
    "Starts out analysis with a fourier transform. Essentially finds what notes are playing at any given time. They use frame lengths of 2048 time units and skips of 512 time units (notice this means each frame overlaps significantly with its neighbors).\n",
    "\n",
    "Intuitive understanding: the mean of the “G” column would be “How often/with what intensity is the note G being played in this song, in any octave (all functions use a range of 7 octaves, which should be enough for any average piece of music)?”\n",
    "\n",
    "Usefulness to us: Basically none. How often a note is played says nothing about genre\n",
    "\n",
    "chroma_cqt:\n",
    "Essentially chroma_stft, but with a “Constant Q Transform” instead of a fourier transform.\n",
    "\n",
    "chroma_cens:\n",
    "\tSame as above, but normalized.\n",
    "\n",
    "tonnetz:\n",
    "Output: 6 columns, Fifth x-axis, Fifth y-axis, Minor x-axis, Minor y-axis, Major x-axis, Major y-axis\n",
    "End Result: 6 x 7 = 42 columns \n",
    "\n",
    "Takes as input one of the “chroma” functions’ outputs and creates kind of a relationship between the tones. I think the way this works is if a major chord is played, that goes into “Major y-axis” and if a major arpeggio is played, that goes into “Major x-axis”? Their documentation on this isn’t super clear, but I think it works this way for Major, Minor, and Dominant chords.\n",
    "\n",
    "Intuitive understanding: the mean of the “Minor y-axis” column would be “how much/with what intensity are block minor chords played in the song?”\n",
    "\n",
    "Usefulness to us: Reasonably important. Different genres will use different chords. \n",
    "\n",
    "mfcc:\n",
    "\tOutput: 20 columns, one for each “coefficient”\n",
    "\tEnd result: 20 x 7 = 140 columns!\n",
    "\n",
    "Their code first creates a mel-scale from the frequencies (it’s like a weird log scale that comes from a survey of human beings and is supposed to represent how well humans hear the differences in pitches?) and then it puts it through a ton of weird math that I don’t understand to get some sort of meaningful coefficients. \n",
    " \n",
    "Intuitive understanding: Here’s some info: https://en.wikipedia.org/wiki/Mel-frequency_cepstrum  If you manage to understand what’s going on, let me know. Apparently it’s very useful in doing voice-to-text stuff.\n",
    "\n",
    "Usefulness to us: I don’t know why, but very important, according to the algorithm.\n",
    "\n",
    "rmse:\n",
    "\tOutput: 1 column, root mean squared energy\n",
    "\tEnd result: 1 x 7 = 7 columns\n",
    "\n",
    "Takes in a spectrogram and calculates the root mean squared energy. I think this means it like tells you how loud the music is at different times. Seems pretty intuitive to me, if that’s correct. \n",
    "\n",
    "Usefulness to us: somewhat, as different genres may have different volume profiles. \n",
    "\n",
    "zcr:\n",
    "\tOutput: 1 column, zero-crossing rate\n",
    "\tEnd result: 1 x 7 = 7 columns\n",
    "\n",
    "I don’t know what it really means to “cross zero” in an audio sample, but I read that this is often used to “classify percussive sounds.” If that’s true, type of percussion is important to the genre of music and we should keep it in mind.\n",
    "\n",
    "Usefulness to us: algorithm says not incredibly important, but still useful, as expected.\n",
    "\n",
    "spectral_centroid: \n",
    "\tOutput: 1 column, centroid of the spectrogram at each frame.\n",
    "\tEnd result: 1 x 7 = 7 columns\n",
    "\n",
    "It seems that for each frame of the stft we computed, they take the mean, so you essentially know where the “pitch center” of the song is at any given moment. Uses the same 2048, 512 sampling as before.\n",
    "\n",
    "Usefulness to us: maybe not very important. Does it matter what pitch the sample is centered around?\n",
    "\n",
    "spectral_bandwidth:\n",
    "\tOutput: 1 column, standard deviation of the spectrogram at each frame.\n",
    "\tEnd result: 1 x 7 = 7 columns \n",
    "\n",
    "Looks like they take the standard deviation of the stft at every frame, so it’s essentially “how open is the chord?”\n",
    "\n",
    "Usefulness to us: Quite useful. Certainly some genres use wider pitches than others \n",
    "\n",
    "spectral_contrast:\n",
    "\tOutput: 6 columns, one for each octave\n",
    "\tEnd result: 6 x 7 = 42 columns \n",
    "\n",
    "From what I can see, first the stft is split into 6 octave-length subspectra, then the difference between the peaks and valleys is analyzed. http://citeseerx.ist.psu.edu/viewdoc/download;jsessionid=C570D8446DB5449A45052136A85349E9?doi=10.1.1.583.7201&rep=rep1&type=pdf\n",
    "This paper gives some insight and compares it against MFCC which it says simply “averages each subspectrum” and therefore isn’t as good at classification. \n",
    "\n",
    "This quote from the paper is especially relevant for the intuition:\n",
    "“For most music, the strong spectral peaks roughly correspond with harmonic components; while non-harmonic components, or noises, often appear at spectral valleys.”\n",
    "\n",
    "Essentially, I think it looks at the differences between he harmonic and non-harmonic components of the music in each octave.\n",
    "\n",
    "Usefulness to us: Top. Outperforms everything in the analysis and makes sense as to why it’s important.\n",
    "\n",
    "Spectral_rolloff:\n",
    "\tOutput: 1 column, rolloff at each frame\n",
    "\tEnd result: 1 x 7 = 7 columns \n",
    "\n",
    "Seems to be just at what rate the highs and lows of the song get softer or louder. Looks mostly meaningless.\n",
    "\n",
    "\tUsefulness to us: low. Analysis agrees that it’s not very useful.\n",
    "\n"
   ]
  }
 ],
 "metadata": {
  "anaconda-cloud": {},
  "kernelspec": {
   "display_name": "Python [conda root]",
   "language": "python",
   "name": "conda-root-py"
  },
  "language_info": {
   "codemirror_mode": {
    "name": "ipython",
    "version": 2
   },
   "file_extension": ".py",
   "mimetype": "text/x-python",
   "name": "python",
   "nbconvert_exporter": "python",
   "pygments_lexer": "ipython2",
   "version": "2.7.12"
  }
 },
 "nbformat": 4,
 "nbformat_minor": 1
}
