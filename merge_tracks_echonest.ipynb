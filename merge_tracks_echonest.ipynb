{
 "cells": [
  {
   "cell_type": "code",
   "execution_count": 29,
   "metadata": {
    "collapsed": false
   },
   "outputs": [],
   "source": [
    "import pandas as pd\n",
    "import numpy as np\n",
    "import matplotlib as plt\n",
    "% matplotlib inline"
   ]
  },
  {
   "cell_type": "code",
   "execution_count": 2,
   "metadata": {
    "collapsed": true
   },
   "outputs": [],
   "source": [
    "tracks = pd.read_csv('tracks1.csv')\n",
    "echonest = pd.read_csv('echonest1.csv')"
   ]
  },
  {
   "cell_type": "code",
   "execution_count": 3,
   "metadata": {
    "collapsed": true
   },
   "outputs": [],
   "source": [
    "df = pd.merge(tracks, echonest, on='track_id', how='inner')"
   ]
  },
  {
   "cell_type": "code",
   "execution_count": 13,
   "metadata": {
    "collapsed": false
   },
   "outputs": [
    {
     "data": {
      "text/plain": [
       "(106574, 13129, 13129)"
      ]
     },
     "execution_count": 13,
     "metadata": {},
     "output_type": "execute_result"
    }
   ],
   "source": [
    "len(tracks),len(echonest),len(df)"
   ]
  },
  {
   "cell_type": "code",
   "execution_count": 4,
   "metadata": {
    "collapsed": false
   },
   "outputs": [
    {
     "data": {
      "text/html": [
       "<div>\n",
       "<table border=\"1\" class=\"dataframe\">\n",
       "  <thead>\n",
       "    <tr style=\"text-align: right;\">\n",
       "      <th></th>\n",
       "      <th>track_id</th>\n",
       "      <th>track_title</th>\n",
       "      <th>track_genre_top</th>\n",
       "      <th>audio_features_acousticness</th>\n",
       "      <th>audio_features_danceability</th>\n",
       "      <th>audio_features_energy</th>\n",
       "      <th>audio_features_instrumentalness</th>\n",
       "      <th>audio_features_liveness</th>\n",
       "      <th>audio_features_speechiness</th>\n",
       "      <th>audio_features_tempo</th>\n",
       "      <th>...</th>\n",
       "      <th>temporal_features_214</th>\n",
       "      <th>temporal_features_215</th>\n",
       "      <th>temporal_features_216</th>\n",
       "      <th>temporal_features_217</th>\n",
       "      <th>temporal_features_218</th>\n",
       "      <th>temporal_features_219</th>\n",
       "      <th>temporal_features_220</th>\n",
       "      <th>temporal_features_221</th>\n",
       "      <th>temporal_features_222</th>\n",
       "      <th>temporal_features_223</th>\n",
       "    </tr>\n",
       "  </thead>\n",
       "  <tbody>\n",
       "    <tr>\n",
       "      <th>0</th>\n",
       "      <td>2</td>\n",
       "      <td>Food</td>\n",
       "      <td>Hip-Hop</td>\n",
       "      <td>0.416675</td>\n",
       "      <td>0.675894</td>\n",
       "      <td>0.634476</td>\n",
       "      <td>0.010628</td>\n",
       "      <td>0.177647</td>\n",
       "      <td>0.159310</td>\n",
       "      <td>165.922</td>\n",
       "      <td>...</td>\n",
       "      <td>-1.992303</td>\n",
       "      <td>6.805694</td>\n",
       "      <td>0.233070</td>\n",
       "      <td>0.192880</td>\n",
       "      <td>0.027455</td>\n",
       "      <td>0.06408</td>\n",
       "      <td>3.67696</td>\n",
       "      <td>3.61288</td>\n",
       "      <td>13.316690</td>\n",
       "      <td>262.929749</td>\n",
       "    </tr>\n",
       "    <tr>\n",
       "      <th>1</th>\n",
       "      <td>3</td>\n",
       "      <td>Electric Ave</td>\n",
       "      <td>Hip-Hop</td>\n",
       "      <td>0.374408</td>\n",
       "      <td>0.528643</td>\n",
       "      <td>0.817461</td>\n",
       "      <td>0.001851</td>\n",
       "      <td>0.105880</td>\n",
       "      <td>0.461818</td>\n",
       "      <td>126.957</td>\n",
       "      <td>...</td>\n",
       "      <td>-1.582331</td>\n",
       "      <td>8.889308</td>\n",
       "      <td>0.258464</td>\n",
       "      <td>0.220905</td>\n",
       "      <td>0.081368</td>\n",
       "      <td>0.06413</td>\n",
       "      <td>6.08277</td>\n",
       "      <td>6.01864</td>\n",
       "      <td>16.673548</td>\n",
       "      <td>325.581085</td>\n",
       "    </tr>\n",
       "    <tr>\n",
       "      <th>2</th>\n",
       "      <td>5</td>\n",
       "      <td>This World</td>\n",
       "      <td>Hip-Hop</td>\n",
       "      <td>0.043567</td>\n",
       "      <td>0.745566</td>\n",
       "      <td>0.701470</td>\n",
       "      <td>0.000697</td>\n",
       "      <td>0.373143</td>\n",
       "      <td>0.124595</td>\n",
       "      <td>100.260</td>\n",
       "      <td>...</td>\n",
       "      <td>-2.288358</td>\n",
       "      <td>11.527109</td>\n",
       "      <td>0.256821</td>\n",
       "      <td>0.237820</td>\n",
       "      <td>0.060122</td>\n",
       "      <td>0.06014</td>\n",
       "      <td>5.92649</td>\n",
       "      <td>5.86635</td>\n",
       "      <td>16.013849</td>\n",
       "      <td>356.755737</td>\n",
       "    </tr>\n",
       "    <tr>\n",
       "      <th>3</th>\n",
       "      <td>10</td>\n",
       "      <td>Freeway</td>\n",
       "      <td>Pop</td>\n",
       "      <td>0.951670</td>\n",
       "      <td>0.658179</td>\n",
       "      <td>0.924525</td>\n",
       "      <td>0.965427</td>\n",
       "      <td>0.115474</td>\n",
       "      <td>0.032985</td>\n",
       "      <td>111.562</td>\n",
       "      <td>...</td>\n",
       "      <td>-3.662988</td>\n",
       "      <td>21.508228</td>\n",
       "      <td>0.283352</td>\n",
       "      <td>0.267070</td>\n",
       "      <td>0.125704</td>\n",
       "      <td>0.08082</td>\n",
       "      <td>8.41401</td>\n",
       "      <td>8.33319</td>\n",
       "      <td>21.317064</td>\n",
       "      <td>483.403809</td>\n",
       "    </tr>\n",
       "    <tr>\n",
       "      <th>4</th>\n",
       "      <td>134</td>\n",
       "      <td>Street Music</td>\n",
       "      <td>Hip-Hop</td>\n",
       "      <td>0.452217</td>\n",
       "      <td>0.513238</td>\n",
       "      <td>0.560410</td>\n",
       "      <td>0.019443</td>\n",
       "      <td>0.096567</td>\n",
       "      <td>0.525519</td>\n",
       "      <td>114.290</td>\n",
       "      <td>...</td>\n",
       "      <td>-1.452696</td>\n",
       "      <td>2.356398</td>\n",
       "      <td>0.234686</td>\n",
       "      <td>0.199550</td>\n",
       "      <td>0.149332</td>\n",
       "      <td>0.06440</td>\n",
       "      <td>11.26707</td>\n",
       "      <td>11.20267</td>\n",
       "      <td>26.454180</td>\n",
       "      <td>751.147705</td>\n",
       "    </tr>\n",
       "  </tbody>\n",
       "</table>\n",
       "<p>5 rows × 235 columns</p>\n",
       "</div>"
      ],
      "text/plain": [
       "   track_id   track_title track_genre_top  audio_features_acousticness  \\\n",
       "0         2          Food         Hip-Hop                     0.416675   \n",
       "1         3  Electric Ave         Hip-Hop                     0.374408   \n",
       "2         5    This World         Hip-Hop                     0.043567   \n",
       "3        10       Freeway             Pop                     0.951670   \n",
       "4       134  Street Music         Hip-Hop                     0.452217   \n",
       "\n",
       "   audio_features_danceability  audio_features_energy  \\\n",
       "0                     0.675894               0.634476   \n",
       "1                     0.528643               0.817461   \n",
       "2                     0.745566               0.701470   \n",
       "3                     0.658179               0.924525   \n",
       "4                     0.513238               0.560410   \n",
       "\n",
       "   audio_features_instrumentalness  audio_features_liveness  \\\n",
       "0                         0.010628                 0.177647   \n",
       "1                         0.001851                 0.105880   \n",
       "2                         0.000697                 0.373143   \n",
       "3                         0.965427                 0.115474   \n",
       "4                         0.019443                 0.096567   \n",
       "\n",
       "   audio_features_speechiness  audio_features_tempo          ...            \\\n",
       "0                    0.159310               165.922          ...             \n",
       "1                    0.461818               126.957          ...             \n",
       "2                    0.124595               100.260          ...             \n",
       "3                    0.032985               111.562          ...             \n",
       "4                    0.525519               114.290          ...             \n",
       "\n",
       "   temporal_features_214  temporal_features_215  temporal_features_216  \\\n",
       "0              -1.992303               6.805694               0.233070   \n",
       "1              -1.582331               8.889308               0.258464   \n",
       "2              -2.288358              11.527109               0.256821   \n",
       "3              -3.662988              21.508228               0.283352   \n",
       "4              -1.452696               2.356398               0.234686   \n",
       "\n",
       "   temporal_features_217  temporal_features_218  temporal_features_219  \\\n",
       "0               0.192880               0.027455                0.06408   \n",
       "1               0.220905               0.081368                0.06413   \n",
       "2               0.237820               0.060122                0.06014   \n",
       "3               0.267070               0.125704                0.08082   \n",
       "4               0.199550               0.149332                0.06440   \n",
       "\n",
       "   temporal_features_220  temporal_features_221  temporal_features_222  \\\n",
       "0                3.67696                3.61288              13.316690   \n",
       "1                6.08277                6.01864              16.673548   \n",
       "2                5.92649                5.86635              16.013849   \n",
       "3                8.41401                8.33319              21.317064   \n",
       "4               11.26707               11.20267              26.454180   \n",
       "\n",
       "   temporal_features_223  \n",
       "0             262.929749  \n",
       "1             325.581085  \n",
       "2             356.755737  \n",
       "3             483.403809  \n",
       "4             751.147705  \n",
       "\n",
       "[5 rows x 235 columns]"
      ]
     },
     "execution_count": 4,
     "metadata": {},
     "output_type": "execute_result"
    }
   ],
   "source": [
    "df.head()"
   ]
  },
  {
   "cell_type": "code",
   "execution_count": 11,
   "metadata": {
    "collapsed": false
   },
   "outputs": [
    {
     "data": {
      "text/plain": [
       "<matplotlib.axes._subplots.AxesSubplot at 0xb762490>"
      ]
     },
     "execution_count": 11,
     "metadata": {},
     "output_type": "execute_result"
    },
    {
     "data": {
      "image/png": "[encoded data removed]",
      "text/plain": [
       "<matplotlib.figure.Figure at 0xb7b2f90>"
      ]
     },
     "metadata": {},
     "output_type": "display_data"
    }
   ],
   "source": [
    "df.track_genre_top.value_counts().plot(kind='bar')"
   ]
  },
  {
   "cell_type": "code",
   "execution_count": 21,
   "metadata": {
    "collapsed": true
   },
   "outputs": [],
   "source": [
    "keep_genres = df.track_genre_top.value_counts()[0:4].index.values"
   ]
  },
  {
   "cell_type": "code",
   "execution_count": 25,
   "metadata": {
    "collapsed": false
   },
   "outputs": [],
   "source": [
    "df = df[df.track_genre_top.isin(keep_genres)]"
   ]
  },
  {
   "cell_type": "code",
   "execution_count": 27,
   "metadata": {
    "collapsed": false
   },
   "outputs": [
    {
     "data": {
      "text/plain": [
       "7846"
      ]
     },
     "execution_count": 27,
     "metadata": {},
     "output_type": "execute_result"
    }
   ],
   "source": [
    "len(df)"
   ]
  },
  {
   "cell_type": "code",
   "execution_count": 26,
   "metadata": {
    "collapsed": false
   },
   "outputs": [
    {
     "data": {
      "text/html": [
       "<div>\n",
       "<table border=\"1\" class=\"dataframe\">\n",
       "  <thead>\n",
       "    <tr style=\"text-align: right;\">\n",
       "      <th></th>\n",
       "      <th>track_id</th>\n",
       "      <th>track_title</th>\n",
       "      <th>track_genre_top</th>\n",
       "      <th>audio_features_acousticness</th>\n",
       "      <th>audio_features_danceability</th>\n",
       "      <th>audio_features_energy</th>\n",
       "      <th>audio_features_instrumentalness</th>\n",
       "      <th>audio_features_liveness</th>\n",
       "      <th>audio_features_speechiness</th>\n",
       "      <th>audio_features_tempo</th>\n",
       "      <th>...</th>\n",
       "      <th>temporal_features_214</th>\n",
       "      <th>temporal_features_215</th>\n",
       "      <th>temporal_features_216</th>\n",
       "      <th>temporal_features_217</th>\n",
       "      <th>temporal_features_218</th>\n",
       "      <th>temporal_features_219</th>\n",
       "      <th>temporal_features_220</th>\n",
       "      <th>temporal_features_221</th>\n",
       "      <th>temporal_features_222</th>\n",
       "      <th>temporal_features_223</th>\n",
       "    </tr>\n",
       "  </thead>\n",
       "  <tbody>\n",
       "    <tr>\n",
       "      <th>0</th>\n",
       "      <td>2</td>\n",
       "      <td>Food</td>\n",
       "      <td>Hip-Hop</td>\n",
       "      <td>0.416675</td>\n",
       "      <td>0.675894</td>\n",
       "      <td>0.634476</td>\n",
       "      <td>0.010628</td>\n",
       "      <td>0.177647</td>\n",
       "      <td>0.159310</td>\n",
       "      <td>165.922</td>\n",
       "      <td>...</td>\n",
       "      <td>-1.992303</td>\n",
       "      <td>6.805694</td>\n",
       "      <td>0.233070</td>\n",
       "      <td>0.192880</td>\n",
       "      <td>0.027455</td>\n",
       "      <td>0.06408</td>\n",
       "      <td>3.67696</td>\n",
       "      <td>3.61288</td>\n",
       "      <td>13.316690</td>\n",
       "      <td>262.929749</td>\n",
       "    </tr>\n",
       "    <tr>\n",
       "      <th>1</th>\n",
       "      <td>3</td>\n",
       "      <td>Electric Ave</td>\n",
       "      <td>Hip-Hop</td>\n",
       "      <td>0.374408</td>\n",
       "      <td>0.528643</td>\n",
       "      <td>0.817461</td>\n",
       "      <td>0.001851</td>\n",
       "      <td>0.105880</td>\n",
       "      <td>0.461818</td>\n",
       "      <td>126.957</td>\n",
       "      <td>...</td>\n",
       "      <td>-1.582331</td>\n",
       "      <td>8.889308</td>\n",
       "      <td>0.258464</td>\n",
       "      <td>0.220905</td>\n",
       "      <td>0.081368</td>\n",
       "      <td>0.06413</td>\n",
       "      <td>6.08277</td>\n",
       "      <td>6.01864</td>\n",
       "      <td>16.673548</td>\n",
       "      <td>325.581085</td>\n",
       "    </tr>\n",
       "    <tr>\n",
       "      <th>2</th>\n",
       "      <td>5</td>\n",
       "      <td>This World</td>\n",
       "      <td>Hip-Hop</td>\n",
       "      <td>0.043567</td>\n",
       "      <td>0.745566</td>\n",
       "      <td>0.701470</td>\n",
       "      <td>0.000697</td>\n",
       "      <td>0.373143</td>\n",
       "      <td>0.124595</td>\n",
       "      <td>100.260</td>\n",
       "      <td>...</td>\n",
       "      <td>-2.288358</td>\n",
       "      <td>11.527109</td>\n",
       "      <td>0.256821</td>\n",
       "      <td>0.237820</td>\n",
       "      <td>0.060122</td>\n",
       "      <td>0.06014</td>\n",
       "      <td>5.92649</td>\n",
       "      <td>5.86635</td>\n",
       "      <td>16.013849</td>\n",
       "      <td>356.755737</td>\n",
       "    </tr>\n",
       "    <tr>\n",
       "      <th>4</th>\n",
       "      <td>134</td>\n",
       "      <td>Street Music</td>\n",
       "      <td>Hip-Hop</td>\n",
       "      <td>0.452217</td>\n",
       "      <td>0.513238</td>\n",
       "      <td>0.560410</td>\n",
       "      <td>0.019443</td>\n",
       "      <td>0.096567</td>\n",
       "      <td>0.525519</td>\n",
       "      <td>114.290</td>\n",
       "      <td>...</td>\n",
       "      <td>-1.452696</td>\n",
       "      <td>2.356398</td>\n",
       "      <td>0.234686</td>\n",
       "      <td>0.199550</td>\n",
       "      <td>0.149332</td>\n",
       "      <td>0.06440</td>\n",
       "      <td>11.26707</td>\n",
       "      <td>11.20267</td>\n",
       "      <td>26.454180</td>\n",
       "      <td>751.147705</td>\n",
       "    </tr>\n",
       "    <tr>\n",
       "      <th>5</th>\n",
       "      <td>139</td>\n",
       "      <td>CandyAss</td>\n",
       "      <td>Folk</td>\n",
       "      <td>0.106550</td>\n",
       "      <td>0.260911</td>\n",
       "      <td>0.607067</td>\n",
       "      <td>0.835087</td>\n",
       "      <td>0.223676</td>\n",
       "      <td>0.030569</td>\n",
       "      <td>196.961</td>\n",
       "      <td>...</td>\n",
       "      <td>-3.078667</td>\n",
       "      <td>12.411567</td>\n",
       "      <td>0.270802</td>\n",
       "      <td>0.272700</td>\n",
       "      <td>0.025242</td>\n",
       "      <td>0.06404</td>\n",
       "      <td>2.43669</td>\n",
       "      <td>2.37265</td>\n",
       "      <td>3.897095</td>\n",
       "      <td>37.866043</td>\n",
       "    </tr>\n",
       "  </tbody>\n",
       "</table>\n",
       "<p>5 rows × 235 columns</p>\n",
       "</div>"
      ],
      "text/plain": [
       "   track_id   track_title track_genre_top  audio_features_acousticness  \\\n",
       "0         2          Food         Hip-Hop                     0.416675   \n",
       "1         3  Electric Ave         Hip-Hop                     0.374408   \n",
       "2         5    This World         Hip-Hop                     0.043567   \n",
       "4       134  Street Music         Hip-Hop                     0.452217   \n",
       "5       139      CandyAss            Folk                     0.106550   \n",
       "\n",
       "   audio_features_danceability  audio_features_energy  \\\n",
       "0                     0.675894               0.634476   \n",
       "1                     0.528643               0.817461   \n",
       "2                     0.745566               0.701470   \n",
       "4                     0.513238               0.560410   \n",
       "5                     0.260911               0.607067   \n",
       "\n",
       "   audio_features_instrumentalness  audio_features_liveness  \\\n",
       "0                         0.010628                 0.177647   \n",
       "1                         0.001851                 0.105880   \n",
       "2                         0.000697                 0.373143   \n",
       "4                         0.019443                 0.096567   \n",
       "5                         0.835087                 0.223676   \n",
       "\n",
       "   audio_features_speechiness  audio_features_tempo          ...            \\\n",
       "0                    0.159310               165.922          ...             \n",
       "1                    0.461818               126.957          ...             \n",
       "2                    0.124595               100.260          ...             \n",
       "4                    0.525519               114.290          ...             \n",
       "5                    0.030569               196.961          ...             \n",
       "\n",
       "   temporal_features_214  temporal_features_215  temporal_features_216  \\\n",
       "0              -1.992303               6.805694               0.233070   \n",
       "1              -1.582331               8.889308               0.258464   \n",
       "2              -2.288358              11.527109               0.256821   \n",
       "4              -1.452696               2.356398               0.234686   \n",
       "5              -3.078667              12.411567               0.270802   \n",
       "\n",
       "   temporal_features_217  temporal_features_218  temporal_features_219  \\\n",
       "0               0.192880               0.027455                0.06408   \n",
       "1               0.220905               0.081368                0.06413   \n",
       "2               0.237820               0.060122                0.06014   \n",
       "4               0.199550               0.149332                0.06440   \n",
       "5               0.272700               0.025242                0.06404   \n",
       "\n",
       "   temporal_features_220  temporal_features_221  temporal_features_222  \\\n",
       "0                3.67696                3.61288              13.316690   \n",
       "1                6.08277                6.01864              16.673548   \n",
       "2                5.92649                5.86635              16.013849   \n",
       "4               11.26707               11.20267              26.454180   \n",
       "5                2.43669                2.37265               3.897095   \n",
       "\n",
       "   temporal_features_223  \n",
       "0             262.929749  \n",
       "1             325.581085  \n",
       "2             356.755737  \n",
       "4             751.147705  \n",
       "5              37.866043  \n",
       "\n",
       "[5 rows x 235 columns]"
      ]
     },
     "execution_count": 26,
     "metadata": {},
     "output_type": "execute_result"
    }
   ],
   "source": [
    "df.head()"
   ]
  },
  {
   "cell_type": "code",
   "execution_count": 43,
   "metadata": {
    "collapsed": false
   },
   "outputs": [],
   "source": [
    "df.to_csv('df.csv',index=False)"
   ]
  },
  {
   "cell_type": "code",
   "execution_count": null,
   "metadata": {
    "collapsed": true
   },
   "outputs": [],
   "source": []
  }
 ],
 "metadata": {
  "kernelspec": {
   "display_name": "Python 2",
   "language": "python",
   "name": "python2"
  },
  "language_info": {
   "codemirror_mode": {
    "name": "ipython",
    "version": 2
   },
   "file_extension": ".py",
   "mimetype": "text/x-python",
   "name": "python",
   "nbconvert_exporter": "python",
   "pygments_lexer": "ipython2",
   "version": "2.7.11"
  }
 },
 "nbformat": 4,
 "nbformat_minor": 0
}
